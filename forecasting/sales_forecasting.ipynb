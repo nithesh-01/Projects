{
 "cells": [
  {
   "cell_type": "markdown",
   "id": "3bfc435a-9282-40ed-88a5-cba3479d1a57",
   "metadata": {},
   "source": [
    "# Part 1: Data Processing and Feature Engineering "
   ]
  },
  {
   "cell_type": "markdown",
   "id": "227d7d2f-5179-4891-9e7d-44513d212b63",
   "metadata": {},
   "source": [
    "#### Importing Libraries\n",
    "- `numpy` and `pandas`: For handling data and doing calculations.\n",
    "- `matplotlib.pyplot` and `seaborn`: For creating visualizations to explore and understand the data.\n",
    "- `zscore` from `scipy.stats`: To help us detect unusual values (outliers) in the sales data using Z-scores."
   ]
  },
  {
   "cell_type": "code",
   "execution_count": 78,
   "id": "a149f4d1-322f-4b7e-b35f-d4d2dba5ad99",
   "metadata": {},
   "outputs": [],
   "source": [
    "import numpy as np\n",
    "import pandas as pd\n",
    "import matplotlib.pyplot as plt\n",
    "import seaborn as sns\n",
    "from scipy.stats import zscore\n",
    "from sklearn.ensemble import RandomForestRegressor\n",
    "from sklearn.metrics import mean_squared_error, mean_absolute_percentage_error, r2_score\n",
    "from xgboost import XGBRegressor\n",
    "from lightgbm import LGBMRegressor\n",
    "\n",
    "from keras.models import Sequential\n",
    "from keras.layers import LSTM, Dense\n",
    "from sklearn.preprocessing import MinMaxScaler\n",
    "\n",
    "from statsmodels.tsa.arima.model import ARIMA\n",
    "\n",
    "import warnings\n",
    "warnings.filterwarnings(\"ignore\")"
   ]
  },
  {
   "cell_type": "markdown",
   "id": "1bf30282-d544-4596-9b20-14d2eac27432",
   "metadata": {},
   "source": [
    " #### Loaded all datasets (sales, oil prices, store details, holidays)"
   ]
  },
  {
   "cell_type": "code",
   "execution_count": 79,
   "id": "ca600b82-a977-42f5-9b4e-20b07cb82f93",
   "metadata": {},
   "outputs": [],
   "source": [
    "train = pd.read_csv(\"train.csv\")\n",
    "stores = pd.read_csv(\"stores.csv\")\n",
    "oil = pd.read_csv(\"oil.csv\")\n",
    "holidays = pd.read_csv(\"holidays_events.csv\")"
   ]
  },
  {
   "cell_type": "markdown",
   "id": "99f1ee23-e8e7-4663-a270-b2de46d265c8",
   "metadata": {},
   "source": [
    " #### Adjusting Display Settings\n",
    " - `pd.set_option('display.max_columns', None)` to make sure all columns are shown when we display a DataFrame.\n",
    " - This helps during exploration so we don’t accidentally miss any important columns while looking at the data."
   ]
  },
  {
   "cell_type": "code",
   "execution_count": 80,
   "id": "93542b44-8eaa-4ea1-a42d-8e6635e521f8",
   "metadata": {},
   "outputs": [],
   "source": [
    "pd.set_option('display.max_columns', None)"
   ]
  },
  {
   "cell_type": "markdown",
   "id": "c263ff85-b8b0-47d1-a960-c8ef9fbe98b1",
   "metadata": {},
   "source": [
    "#### Data Overview Function\n",
    "define a helper function `data_overview(df, name)` to quickly inspect any dataset.."
   ]
  },
  {
   "cell_type": "code",
   "execution_count": 81,
   "id": "60f42c17-6565-4229-95fa-47207eea2567",
   "metadata": {},
   "outputs": [],
   "source": [
    "def data_overview(df, name):\n",
    "    print(\"Shape:\", df.shape)\n",
    "    print(\"Columns:\", df.columns.tolist())\n",
    "    print(\"Data types:\\n\", df.dtypes)\n",
    "    print(\"First 5 rows:\\n\", df.head())\n",
    "    print(\"Missing values:\\n\", df.isnull().sum())"
   ]
  },
  {
   "cell_type": "code",
   "execution_count": null,
   "id": "4168038d-3d95-4d62-beb2-517367ea8b2e",
   "metadata": {},
   "outputs": [],
   "source": []
  },
  {
   "cell_type": "code",
   "execution_count": 82,
   "id": "ac513fd5-784e-4ac0-9e0c-12bc4034ddf7",
   "metadata": {},
   "outputs": [
    {
     "name": "stdout",
     "output_type": "stream",
     "text": [
      "Shape: (3000888, 6)\n",
      "Columns: ['id', 'date', 'store_nbr', 'family', 'sales', 'onpromotion']\n",
      "Data types:\n",
      " id               int64\n",
      "date            object\n",
      "store_nbr        int64\n",
      "family          object\n",
      "sales          float64\n",
      "onpromotion      int64\n",
      "dtype: object\n",
      "First 5 rows:\n",
      "    id        date  store_nbr      family  sales  onpromotion\n",
      "0   0  2013-01-01          1  AUTOMOTIVE    0.0            0\n",
      "1   1  2013-01-01          1   BABY CARE    0.0            0\n",
      "2   2  2013-01-01          1      BEAUTY    0.0            0\n",
      "3   3  2013-01-01          1   BEVERAGES    0.0            0\n",
      "4   4  2013-01-01          1       BOOKS    0.0            0\n",
      "Missing values:\n",
      " id             0\n",
      "date           0\n",
      "store_nbr      0\n",
      "family         0\n",
      "sales          0\n",
      "onpromotion    0\n",
      "dtype: int64\n"
     ]
    }
   ],
   "source": [
    "data_overview(train, \"Train\")"
   ]
  },
  {
   "cell_type": "code",
   "execution_count": null,
   "id": "882591b9-00f4-4826-8db0-25b34d795167",
   "metadata": {},
   "outputs": [],
   "source": []
  },
  {
   "cell_type": "code",
   "execution_count": 83,
   "id": "f9c8d9f4-fe32-4871-a592-8b4834ff4693",
   "metadata": {},
   "outputs": [
    {
     "name": "stdout",
     "output_type": "stream",
     "text": [
      "Shape: (54, 5)\n",
      "Columns: ['store_nbr', 'city', 'state', 'type', 'cluster']\n",
      "Data types:\n",
      " store_nbr     int64\n",
      "city         object\n",
      "state        object\n",
      "type         object\n",
      "cluster       int64\n",
      "dtype: object\n",
      "First 5 rows:\n",
      "    store_nbr           city                           state type  cluster\n",
      "0          1          Quito                       Pichincha    D       13\n",
      "1          2          Quito                       Pichincha    D       13\n",
      "2          3          Quito                       Pichincha    D        8\n",
      "3          4          Quito                       Pichincha    D        9\n",
      "4          5  Santo Domingo  Santo Domingo de los Tsachilas    D        4\n",
      "Missing values:\n",
      " store_nbr    0\n",
      "city         0\n",
      "state        0\n",
      "type         0\n",
      "cluster      0\n",
      "dtype: int64\n"
     ]
    }
   ],
   "source": [
    "data_overview(stores, \"stores\")"
   ]
  },
  {
   "cell_type": "code",
   "execution_count": null,
   "id": "e03b5000-1528-44c6-9c8b-d4c7d0e363fe",
   "metadata": {},
   "outputs": [],
   "source": []
  },
  {
   "cell_type": "code",
   "execution_count": 84,
   "id": "3d64ce8e-1cc6-40db-b3d5-3cafe5ea1569",
   "metadata": {},
   "outputs": [
    {
     "name": "stdout",
     "output_type": "stream",
     "text": [
      "Shape: (1218, 2)\n",
      "Columns: ['date', 'dcoilwtico']\n",
      "Data types:\n",
      " date           object\n",
      "dcoilwtico    float64\n",
      "dtype: object\n",
      "First 5 rows:\n",
      "          date  dcoilwtico\n",
      "0  2013-01-01         NaN\n",
      "1  2013-01-02       93.14\n",
      "2  2013-01-03       92.97\n",
      "3  2013-01-04       93.12\n",
      "4  2013-01-07       93.20\n",
      "Missing values:\n",
      " date           0\n",
      "dcoilwtico    43\n",
      "dtype: int64\n"
     ]
    }
   ],
   "source": [
    "data_overview(oil, \"oil\")"
   ]
  },
  {
   "cell_type": "code",
   "execution_count": null,
   "id": "030bc212-fa55-48f3-b306-fb818be3b2b4",
   "metadata": {},
   "outputs": [],
   "source": []
  },
  {
   "cell_type": "code",
   "execution_count": 85,
   "id": "843ad2ea-edf3-4079-9975-a1c6da7f09c0",
   "metadata": {},
   "outputs": [
    {
     "name": "stdout",
     "output_type": "stream",
     "text": [
      "Shape: (350, 6)\n",
      "Columns: ['date', 'type', 'locale', 'locale_name', 'description', 'transferred']\n",
      "Data types:\n",
      " date           object\n",
      "type           object\n",
      "locale         object\n",
      "locale_name    object\n",
      "description    object\n",
      "transferred      bool\n",
      "dtype: object\n",
      "First 5 rows:\n",
      "          date     type    locale locale_name                    description  \\\n",
      "0  2012-03-02  Holiday     Local       Manta             Fundacion de Manta   \n",
      "1  2012-04-01  Holiday  Regional    Cotopaxi  Provincializacion de Cotopaxi   \n",
      "2  2012-04-12  Holiday     Local      Cuenca            Fundacion de Cuenca   \n",
      "3  2012-04-14  Holiday     Local    Libertad      Cantonizacion de Libertad   \n",
      "4  2012-04-21  Holiday     Local    Riobamba      Cantonizacion de Riobamba   \n",
      "\n",
      "   transferred  \n",
      "0        False  \n",
      "1        False  \n",
      "2        False  \n",
      "3        False  \n",
      "4        False  \n",
      "Missing values:\n",
      " date           0\n",
      "type           0\n",
      "locale         0\n",
      "locale_name    0\n",
      "description    0\n",
      "transferred    0\n",
      "dtype: int64\n"
     ]
    }
   ],
   "source": [
    "data_overview(holidays, \"holidays\")"
   ]
  },
  {
   "cell_type": "markdown",
   "id": "8af8b7ad-dc5a-4490-a2da-e232c7e61b9b",
   "metadata": {},
   "source": [
    "# 1.Data Cleaning"
   ]
  },
  {
   "cell_type": "markdown",
   "id": "b5518559-e266-48eb-b7c7-e1c92143144d",
   "metadata": {},
   "source": [
    "#### Filling Missing Oil Prices\n",
    "- Linear interpolation is applied to fill missing values in the 'dcoilwtico' column (representing oil prices).\n",
    "- The `limit_direction='both'` argument ensures that missing values at both the beginning and end of the series are filled based on available data from both directions.\n",
    "- The `interpolate(method='linear')` method estimates the missing values by drawing straight lines between known data points.\n",
    "- Finally, any remaining missing values in the dataset are checked using `oil.isnull().sum()`.\n"
   ]
  },
  {
   "cell_type": "code",
   "execution_count": 86,
   "id": "ad3e6549-7ea8-4aad-86d2-62542e938909",
   "metadata": {},
   "outputs": [
    {
     "data": {
      "text/plain": [
       "date          0\n",
       "dcoilwtico    0\n",
       "dtype: int64"
      ]
     },
     "execution_count": 86,
     "metadata": {},
     "output_type": "execute_result"
    }
   ],
   "source": [
    "oil['dcoilwtico'] = oil['dcoilwtico'].interpolate(method='linear', limit_direction='both')\n",
    "oil.isnull().sum()"
   ]
  },
  {
   "cell_type": "code",
   "execution_count": 87,
   "id": "c84103e8-c700-4fe5-8715-e160ab101ede",
   "metadata": {},
   "outputs": [
    {
     "data": {
      "text/html": [
       "<div>\n",
       "<style scoped>\n",
       "    .dataframe tbody tr th:only-of-type {\n",
       "        vertical-align: middle;\n",
       "    }\n",
       "\n",
       "    .dataframe tbody tr th {\n",
       "        vertical-align: top;\n",
       "    }\n",
       "\n",
       "    .dataframe thead th {\n",
       "        text-align: right;\n",
       "    }\n",
       "</style>\n",
       "<table border=\"1\" class=\"dataframe\">\n",
       "  <thead>\n",
       "    <tr style=\"text-align: right;\">\n",
       "      <th></th>\n",
       "      <th>date</th>\n",
       "      <th>dcoilwtico</th>\n",
       "    </tr>\n",
       "  </thead>\n",
       "  <tbody>\n",
       "    <tr>\n",
       "      <th>0</th>\n",
       "      <td>2013-01-01</td>\n",
       "      <td>93.14</td>\n",
       "    </tr>\n",
       "    <tr>\n",
       "      <th>1</th>\n",
       "      <td>2013-01-02</td>\n",
       "      <td>93.14</td>\n",
       "    </tr>\n",
       "    <tr>\n",
       "      <th>2</th>\n",
       "      <td>2013-01-03</td>\n",
       "      <td>92.97</td>\n",
       "    </tr>\n",
       "    <tr>\n",
       "      <th>3</th>\n",
       "      <td>2013-01-04</td>\n",
       "      <td>93.12</td>\n",
       "    </tr>\n",
       "    <tr>\n",
       "      <th>4</th>\n",
       "      <td>2013-01-07</td>\n",
       "      <td>93.20</td>\n",
       "    </tr>\n",
       "  </tbody>\n",
       "</table>\n",
       "</div>"
      ],
      "text/plain": [
       "         date  dcoilwtico\n",
       "0  2013-01-01       93.14\n",
       "1  2013-01-02       93.14\n",
       "2  2013-01-03       92.97\n",
       "3  2013-01-04       93.12\n",
       "4  2013-01-07       93.20"
      ]
     },
     "execution_count": 87,
     "metadata": {},
     "output_type": "execute_result"
    }
   ],
   "source": [
    "# The first five rows of the dataset are displayed\n",
    "oil.head()"
   ]
  },
  {
   "cell_type": "markdown",
   "id": "effe5b3c-d36a-478b-82c7-06ec36162d9f",
   "metadata": {},
   "source": [
    "The 'date' column in each of the DataFrames (`train`, `oil`, and `holidays`) is converted to a datetime format using `pd.to_datetime()`. This ensures that the 'date' column is recognized as a proper datetime object, enabling easier time-based operations and analysis."
   ]
  },
  {
   "cell_type": "code",
   "execution_count": 88,
   "id": "708853f2-c1fe-41a9-badf-487944c6395f",
   "metadata": {},
   "outputs": [],
   "source": [
    "for df in[train, oil, holidays]:\n",
    "    df['date'] = pd.to_datetime(df['date'])"
   ]
  },
  {
   "cell_type": "code",
   "execution_count": 89,
   "id": "58f0f12e-4627-4598-8208-a1a9469c7276",
   "metadata": {},
   "outputs": [
    {
     "name": "stdout",
     "output_type": "stream",
     "text": [
      "datetime64[ns]\n",
      "datetime64[ns]\n",
      "datetime64[ns]\n"
     ]
    }
   ],
   "source": [
    "# The data types of the 'date' column in the train, oil, and holidays DataFrames were displayed to verify the datetime conversion.\n",
    "print(train['date'].dtypes)\n",
    "print(oil['date'].dtypes)\n",
    "print(holidays['date'].dtypes)"
   ]
  },
  {
   "cell_type": "code",
   "execution_count": 90,
   "id": "aa17a805-6172-4929-9b33-81fcf03e504f",
   "metadata": {},
   "outputs": [],
   "source": [
    "# A copy of the 'train' DataFrame has been created to avoid modifying the original data during further analysis.\n",
    "df = train.copy()"
   ]
  },
  {
   "cell_type": "markdown",
   "id": "522e7501-2b24-4b57-a5b4-27e15d898b2a",
   "metadata": {},
   "source": [
    "- Merge the 'oil', 'holidays', and 'stores' DataFrames with the 'df' DataFrame using the specified keys ('date' and 'store_nbr').\n",
    "- The merges are performed using a left join to retain all rows from the 'df' DataFrame."
   ]
  },
  {
   "cell_type": "code",
   "execution_count": 91,
   "id": "aa91d3a4-c475-4b78-9336-025319068993",
   "metadata": {},
   "outputs": [],
   "source": [
    "merge = [(oil, 'date'),(holidays, 'date'),(stores, 'store_nbr')]\n",
    "\n",
    "for data, key in merge:\n",
    "    df = pd.merge(df, data, on=key, how='left')"
   ]
  },
  {
   "cell_type": "code",
   "execution_count": 92,
   "id": "2027b88e-0019-463f-a971-0975282956c9",
   "metadata": {},
   "outputs": [
    {
     "data": {
      "text/html": [
       "<div>\n",
       "<style scoped>\n",
       "    .dataframe tbody tr th:only-of-type {\n",
       "        vertical-align: middle;\n",
       "    }\n",
       "\n",
       "    .dataframe tbody tr th {\n",
       "        vertical-align: top;\n",
       "    }\n",
       "\n",
       "    .dataframe thead th {\n",
       "        text-align: right;\n",
       "    }\n",
       "</style>\n",
       "<table border=\"1\" class=\"dataframe\">\n",
       "  <thead>\n",
       "    <tr style=\"text-align: right;\">\n",
       "      <th></th>\n",
       "      <th>id</th>\n",
       "      <th>date</th>\n",
       "      <th>store_nbr</th>\n",
       "      <th>family</th>\n",
       "      <th>sales</th>\n",
       "      <th>onpromotion</th>\n",
       "      <th>dcoilwtico</th>\n",
       "      <th>type_x</th>\n",
       "      <th>locale</th>\n",
       "      <th>locale_name</th>\n",
       "      <th>description</th>\n",
       "      <th>transferred</th>\n",
       "      <th>city</th>\n",
       "      <th>state</th>\n",
       "      <th>type_y</th>\n",
       "      <th>cluster</th>\n",
       "    </tr>\n",
       "  </thead>\n",
       "  <tbody>\n",
       "    <tr>\n",
       "      <th>0</th>\n",
       "      <td>0</td>\n",
       "      <td>2013-01-01</td>\n",
       "      <td>1</td>\n",
       "      <td>AUTOMOTIVE</td>\n",
       "      <td>0.0</td>\n",
       "      <td>0</td>\n",
       "      <td>93.14</td>\n",
       "      <td>Holiday</td>\n",
       "      <td>National</td>\n",
       "      <td>Ecuador</td>\n",
       "      <td>Primer dia del ano</td>\n",
       "      <td>False</td>\n",
       "      <td>Quito</td>\n",
       "      <td>Pichincha</td>\n",
       "      <td>D</td>\n",
       "      <td>13</td>\n",
       "    </tr>\n",
       "    <tr>\n",
       "      <th>1</th>\n",
       "      <td>1</td>\n",
       "      <td>2013-01-01</td>\n",
       "      <td>1</td>\n",
       "      <td>BABY CARE</td>\n",
       "      <td>0.0</td>\n",
       "      <td>0</td>\n",
       "      <td>93.14</td>\n",
       "      <td>Holiday</td>\n",
       "      <td>National</td>\n",
       "      <td>Ecuador</td>\n",
       "      <td>Primer dia del ano</td>\n",
       "      <td>False</td>\n",
       "      <td>Quito</td>\n",
       "      <td>Pichincha</td>\n",
       "      <td>D</td>\n",
       "      <td>13</td>\n",
       "    </tr>\n",
       "    <tr>\n",
       "      <th>2</th>\n",
       "      <td>2</td>\n",
       "      <td>2013-01-01</td>\n",
       "      <td>1</td>\n",
       "      <td>BEAUTY</td>\n",
       "      <td>0.0</td>\n",
       "      <td>0</td>\n",
       "      <td>93.14</td>\n",
       "      <td>Holiday</td>\n",
       "      <td>National</td>\n",
       "      <td>Ecuador</td>\n",
       "      <td>Primer dia del ano</td>\n",
       "      <td>False</td>\n",
       "      <td>Quito</td>\n",
       "      <td>Pichincha</td>\n",
       "      <td>D</td>\n",
       "      <td>13</td>\n",
       "    </tr>\n",
       "    <tr>\n",
       "      <th>3</th>\n",
       "      <td>3</td>\n",
       "      <td>2013-01-01</td>\n",
       "      <td>1</td>\n",
       "      <td>BEVERAGES</td>\n",
       "      <td>0.0</td>\n",
       "      <td>0</td>\n",
       "      <td>93.14</td>\n",
       "      <td>Holiday</td>\n",
       "      <td>National</td>\n",
       "      <td>Ecuador</td>\n",
       "      <td>Primer dia del ano</td>\n",
       "      <td>False</td>\n",
       "      <td>Quito</td>\n",
       "      <td>Pichincha</td>\n",
       "      <td>D</td>\n",
       "      <td>13</td>\n",
       "    </tr>\n",
       "    <tr>\n",
       "      <th>4</th>\n",
       "      <td>4</td>\n",
       "      <td>2013-01-01</td>\n",
       "      <td>1</td>\n",
       "      <td>BOOKS</td>\n",
       "      <td>0.0</td>\n",
       "      <td>0</td>\n",
       "      <td>93.14</td>\n",
       "      <td>Holiday</td>\n",
       "      <td>National</td>\n",
       "      <td>Ecuador</td>\n",
       "      <td>Primer dia del ano</td>\n",
       "      <td>False</td>\n",
       "      <td>Quito</td>\n",
       "      <td>Pichincha</td>\n",
       "      <td>D</td>\n",
       "      <td>13</td>\n",
       "    </tr>\n",
       "  </tbody>\n",
       "</table>\n",
       "</div>"
      ],
      "text/plain": [
       "   id       date  store_nbr      family  sales  onpromotion  dcoilwtico  \\\n",
       "0   0 2013-01-01          1  AUTOMOTIVE    0.0            0       93.14   \n",
       "1   1 2013-01-01          1   BABY CARE    0.0            0       93.14   \n",
       "2   2 2013-01-01          1      BEAUTY    0.0            0       93.14   \n",
       "3   3 2013-01-01          1   BEVERAGES    0.0            0       93.14   \n",
       "4   4 2013-01-01          1       BOOKS    0.0            0       93.14   \n",
       "\n",
       "    type_x    locale locale_name         description transferred   city  \\\n",
       "0  Holiday  National     Ecuador  Primer dia del ano       False  Quito   \n",
       "1  Holiday  National     Ecuador  Primer dia del ano       False  Quito   \n",
       "2  Holiday  National     Ecuador  Primer dia del ano       False  Quito   \n",
       "3  Holiday  National     Ecuador  Primer dia del ano       False  Quito   \n",
       "4  Holiday  National     Ecuador  Primer dia del ano       False  Quito   \n",
       "\n",
       "       state type_y  cluster  \n",
       "0  Pichincha      D       13  \n",
       "1  Pichincha      D       13  \n",
       "2  Pichincha      D       13  \n",
       "3  Pichincha      D       13  \n",
       "4  Pichincha      D       13  "
      ]
     },
     "execution_count": 92,
     "metadata": {},
     "output_type": "execute_result"
    }
   ],
   "source": [
    "#The first five rows of the dataset are displayed\n",
    "df.head()"
   ]
  },
  {
   "cell_type": "code",
   "execution_count": 93,
   "id": "6e50fd90-46e1-48e2-b403-dd46b340347c",
   "metadata": {},
   "outputs": [
    {
     "data": {
      "text/plain": [
       "(3054348, 16)"
      ]
     },
     "execution_count": 93,
     "metadata": {},
     "output_type": "execute_result"
    }
   ],
   "source": [
    "#shape of the dataset\n",
    "df.shape"
   ]
  },
  {
   "cell_type": "code",
   "execution_count": 94,
   "id": "f33d5c2f-e73d-4649-8000-6845a011657f",
   "metadata": {},
   "outputs": [
    {
     "name": "stdout",
     "output_type": "stream",
     "text": [
      "<class 'pandas.core.frame.DataFrame'>\n",
      "RangeIndex: 3054348 entries, 0 to 3054347\n",
      "Data columns (total 16 columns):\n",
      " #   Column       Dtype         \n",
      "---  ------       -----         \n",
      " 0   id           int64         \n",
      " 1   date         datetime64[ns]\n",
      " 2   store_nbr    int64         \n",
      " 3   family       object        \n",
      " 4   sales        float64       \n",
      " 5   onpromotion  int64         \n",
      " 6   dcoilwtico   float64       \n",
      " 7   type_x       object        \n",
      " 8   locale       object        \n",
      " 9   locale_name  object        \n",
      " 10  description  object        \n",
      " 11  transferred  object        \n",
      " 12  city         object        \n",
      " 13  state        object        \n",
      " 14  type_y       object        \n",
      " 15  cluster      int64         \n",
      "dtypes: datetime64[ns](1), float64(2), int64(4), object(9)\n",
      "memory usage: 372.8+ MB\n"
     ]
    }
   ],
   "source": [
    "#Information about the DataFrame has been displayed, showing the number of non-null entries and the data types of each column.\n",
    "df.info()"
   ]
  },
  {
   "cell_type": "code",
   "execution_count": 95,
   "id": "29293ee9-ef79-4c43-b1dc-c4f06cef08f2",
   "metadata": {},
   "outputs": [
    {
     "data": {
      "text/plain": [
       "id                   0\n",
       "date                 0\n",
       "store_nbr            0\n",
       "family               0\n",
       "sales                0\n",
       "onpromotion          0\n",
       "dcoilwtico      878526\n",
       "type_x         2551824\n",
       "locale         2551824\n",
       "locale_name    2551824\n",
       "description    2551824\n",
       "transferred    2551824\n",
       "city                 0\n",
       "state                0\n",
       "type_y               0\n",
       "cluster              0\n",
       "dtype: int64"
      ]
     },
     "execution_count": 95,
     "metadata": {},
     "output_type": "execute_result"
    }
   ],
   "source": [
    "## The total number of missing values in each column.\n",
    "df.isnull().sum()"
   ]
  },
  {
   "cell_type": "markdown",
   "id": "dc67c586-ec7a-4ad9-8a1a-ed96bb367795",
   "metadata": {},
   "source": [
    "Missing values in the 'dcoilwtico' column have been filled using linear interpolation to maintain continuity in oil price data.\n"
   ]
  },
  {
   "cell_type": "code",
   "execution_count": 96,
   "id": "b8c64e80-ab06-4817-b711-0e94200a3775",
   "metadata": {},
   "outputs": [],
   "source": [
    "df['dcoilwtico'] = df['dcoilwtico'].interpolate(method='linear')"
   ]
  },
  {
   "cell_type": "code",
   "execution_count": 97,
   "id": "4695530c-191b-4746-b5fa-c3c5310f23b0",
   "metadata": {},
   "outputs": [
    {
     "data": {
      "text/plain": [
       "id                   0\n",
       "date                 0\n",
       "store_nbr            0\n",
       "family               0\n",
       "sales                0\n",
       "onpromotion          0\n",
       "dcoilwtico           0\n",
       "type_x         2551824\n",
       "locale         2551824\n",
       "locale_name    2551824\n",
       "description    2551824\n",
       "transferred    2551824\n",
       "city                 0\n",
       "state                0\n",
       "type_y               0\n",
       "cluster              0\n",
       "dtype: int64"
      ]
     },
     "execution_count": 97,
     "metadata": {},
     "output_type": "execute_result"
    }
   ],
   "source": [
    "df.isnull().sum()"
   ]
  },
  {
   "cell_type": "markdown",
   "id": "42e8dcff-8bb4-4a73-b758-0372751446b0",
   "metadata": {},
   "source": [
    "Missing values in the columns `'type_x'`, `'locale'`, `'locale_name'`, `'description'`, and `'transferred'` have been filled with the placeholder `'Unknown'`. This helps handle missing categorical data and ensures consistency in further analysis or modeling."
   ]
  },
  {
   "cell_type": "code",
   "execution_count": 98,
   "id": "31293930-ff17-4c3a-b213-09024729a9d1",
   "metadata": {},
   "outputs": [],
   "source": [
    "for col in ['type_x', 'locale', 'locale_name', 'description', 'transferred']:\n",
    "    df[col] = df[col].fillna('Unknown')"
   ]
  },
  {
   "cell_type": "code",
   "execution_count": 99,
   "id": "053054ea-5fea-44ab-a5a0-a6db2e7824d4",
   "metadata": {},
   "outputs": [
    {
     "data": {
      "text/plain": [
       "id             0\n",
       "date           0\n",
       "store_nbr      0\n",
       "family         0\n",
       "sales          0\n",
       "onpromotion    0\n",
       "dcoilwtico     0\n",
       "type_x         0\n",
       "locale         0\n",
       "locale_name    0\n",
       "description    0\n",
       "transferred    0\n",
       "city           0\n",
       "state          0\n",
       "type_y         0\n",
       "cluster        0\n",
       "dtype: int64"
      ]
     },
     "execution_count": 99,
     "metadata": {},
     "output_type": "execute_result"
    }
   ],
   "source": [
    "df.isnull().sum()"
   ]
  },
  {
   "cell_type": "code",
   "execution_count": 100,
   "id": "b29d9fdf-b8b5-4459-bf34-60973ec88966",
   "metadata": {},
   "outputs": [
    {
     "data": {
      "text/html": [
       "<div>\n",
       "<style scoped>\n",
       "    .dataframe tbody tr th:only-of-type {\n",
       "        vertical-align: middle;\n",
       "    }\n",
       "\n",
       "    .dataframe tbody tr th {\n",
       "        vertical-align: top;\n",
       "    }\n",
       "\n",
       "    .dataframe thead th {\n",
       "        text-align: right;\n",
       "    }\n",
       "</style>\n",
       "<table border=\"1\" class=\"dataframe\">\n",
       "  <thead>\n",
       "    <tr style=\"text-align: right;\">\n",
       "      <th></th>\n",
       "      <th>id</th>\n",
       "      <th>date</th>\n",
       "      <th>store_nbr</th>\n",
       "      <th>family</th>\n",
       "      <th>sales</th>\n",
       "      <th>onpromotion</th>\n",
       "      <th>dcoilwtico</th>\n",
       "      <th>type_x</th>\n",
       "      <th>locale</th>\n",
       "      <th>locale_name</th>\n",
       "      <th>description</th>\n",
       "      <th>transferred</th>\n",
       "      <th>city</th>\n",
       "      <th>state</th>\n",
       "      <th>type_y</th>\n",
       "      <th>cluster</th>\n",
       "    </tr>\n",
       "  </thead>\n",
       "  <tbody>\n",
       "    <tr>\n",
       "      <th>668753</th>\n",
       "      <td>659843</td>\n",
       "      <td>2014-01-07</td>\n",
       "      <td>23</td>\n",
       "      <td>DAIRY</td>\n",
       "      <td>471.0</td>\n",
       "      <td>0</td>\n",
       "      <td>93.310000</td>\n",
       "      <td>Unknown</td>\n",
       "      <td>Unknown</td>\n",
       "      <td>Unknown</td>\n",
       "      <td>Unknown</td>\n",
       "      <td>Unknown</td>\n",
       "      <td>Ambato</td>\n",
       "      <td>Tungurahua</td>\n",
       "      <td>D</td>\n",
       "      <td>9</td>\n",
       "    </tr>\n",
       "    <tr>\n",
       "      <th>1267004</th>\n",
       "      <td>1250966</td>\n",
       "      <td>2014-12-05</td>\n",
       "      <td>1</td>\n",
       "      <td>BEAUTY</td>\n",
       "      <td>1.0</td>\n",
       "      <td>0</td>\n",
       "      <td>65.890000</td>\n",
       "      <td>Additional</td>\n",
       "      <td>Local</td>\n",
       "      <td>Quito</td>\n",
       "      <td>Fundacion de Quito-1</td>\n",
       "      <td>False</td>\n",
       "      <td>Quito</td>\n",
       "      <td>Pichincha</td>\n",
       "      <td>D</td>\n",
       "      <td>13</td>\n",
       "    </tr>\n",
       "    <tr>\n",
       "      <th>997442</th>\n",
       "      <td>981404</td>\n",
       "      <td>2014-07-06</td>\n",
       "      <td>45</td>\n",
       "      <td>HOME APPLIANCES</td>\n",
       "      <td>0.0</td>\n",
       "      <td>0</td>\n",
       "      <td>104.228213</td>\n",
       "      <td>Unknown</td>\n",
       "      <td>Unknown</td>\n",
       "      <td>Unknown</td>\n",
       "      <td>Unknown</td>\n",
       "      <td>Unknown</td>\n",
       "      <td>Quito</td>\n",
       "      <td>Pichincha</td>\n",
       "      <td>A</td>\n",
       "      <td>11</td>\n",
       "    </tr>\n",
       "    <tr>\n",
       "      <th>873596</th>\n",
       "      <td>864686</td>\n",
       "      <td>2014-05-02</td>\n",
       "      <td>20</td>\n",
       "      <td>LAWN AND GARDEN</td>\n",
       "      <td>0.0</td>\n",
       "      <td>0</td>\n",
       "      <td>100.090000</td>\n",
       "      <td>Unknown</td>\n",
       "      <td>Unknown</td>\n",
       "      <td>Unknown</td>\n",
       "      <td>Unknown</td>\n",
       "      <td>Unknown</td>\n",
       "      <td>Quito</td>\n",
       "      <td>Pichincha</td>\n",
       "      <td>B</td>\n",
       "      <td>6</td>\n",
       "    </tr>\n",
       "    <tr>\n",
       "      <th>756145</th>\n",
       "      <td>747235</td>\n",
       "      <td>2014-02-25</td>\n",
       "      <td>25</td>\n",
       "      <td>HOME AND KITCHEN II</td>\n",
       "      <td>0.0</td>\n",
       "      <td>0</td>\n",
       "      <td>102.200000</td>\n",
       "      <td>Unknown</td>\n",
       "      <td>Unknown</td>\n",
       "      <td>Unknown</td>\n",
       "      <td>Unknown</td>\n",
       "      <td>Unknown</td>\n",
       "      <td>Salinas</td>\n",
       "      <td>Santa Elena</td>\n",
       "      <td>D</td>\n",
       "      <td>1</td>\n",
       "    </tr>\n",
       "  </tbody>\n",
       "</table>\n",
       "</div>"
      ],
      "text/plain": [
       "              id       date  store_nbr               family  sales  \\\n",
       "668753    659843 2014-01-07         23                DAIRY  471.0   \n",
       "1267004  1250966 2014-12-05          1               BEAUTY    1.0   \n",
       "997442    981404 2014-07-06         45      HOME APPLIANCES    0.0   \n",
       "873596    864686 2014-05-02         20      LAWN AND GARDEN    0.0   \n",
       "756145    747235 2014-02-25         25  HOME AND KITCHEN II    0.0   \n",
       "\n",
       "         onpromotion  dcoilwtico      type_x   locale locale_name  \\\n",
       "668753             0   93.310000     Unknown  Unknown     Unknown   \n",
       "1267004            0   65.890000  Additional    Local       Quito   \n",
       "997442             0  104.228213     Unknown  Unknown     Unknown   \n",
       "873596             0  100.090000     Unknown  Unknown     Unknown   \n",
       "756145             0  102.200000     Unknown  Unknown     Unknown   \n",
       "\n",
       "                  description transferred     city        state type_y  \\\n",
       "668753                Unknown     Unknown   Ambato   Tungurahua      D   \n",
       "1267004  Fundacion de Quito-1       False    Quito    Pichincha      D   \n",
       "997442                Unknown     Unknown    Quito    Pichincha      A   \n",
       "873596                Unknown     Unknown    Quito    Pichincha      B   \n",
       "756145                Unknown     Unknown  Salinas  Santa Elena      D   \n",
       "\n",
       "         cluster  \n",
       "668753         9  \n",
       "1267004       13  \n",
       "997442        11  \n",
       "873596         6  \n",
       "756145         1  "
      ]
     },
     "execution_count": 100,
     "metadata": {},
     "output_type": "execute_result"
    }
   ],
   "source": [
    "# A random sample of 5 rows from the DataFrame has been displayed to review a few data points after preprocessing.\n",
    "df.sample(5, random_state=42)"
   ]
  },
  {
   "cell_type": "markdown",
   "id": "4ee8f0eb-2639-4fb5-8ac0-eb17fb028dbc",
   "metadata": {},
   "source": [
    "## 2. Feature Engineering"
   ]
  },
  {
   "cell_type": "markdown",
   "id": "be291e98-6f36-42e7-90b3-afbdf9b235db",
   "metadata": {},
   "source": [
    "Date-related features have been extracted from the 'date' column to support time-based analysis and modeling:\n",
    "\n",
    "- `'day'`: Day of the month.\n",
    "- `'week'`: ISO week number of the year.\n",
    "- `'month'`: Month of the year.\n",
    "- `'year'`: Year component.\n",
    "- `'day_of_week'`: Day of the week (0 = Monday, 6 = Sunday).\n",
    "\n",
    "These features help capture seasonal patterns and trends in the data.\n"
   ]
  },
  {
   "cell_type": "code",
   "execution_count": 101,
   "id": "f9752f93-286e-443b-a6cd-ab78b9aede88",
   "metadata": {},
   "outputs": [],
   "source": [
    "df['day'] = df['date'].dt.day\n",
    "df['week'] = df['date'].dt.isocalendar().week\n",
    "df['month'] = df['date'].dt.month\n",
    "df['year'] = df['date'].dt.year\n",
    "df['day_of_week'] = df['date'].dt.dayofweek"
   ]
  },
  {
   "cell_type": "code",
   "execution_count": 102,
   "id": "563c0efe-7aa8-42ad-bdda-c0a13c67bfe4",
   "metadata": {},
   "outputs": [
    {
     "data": {
      "text/html": [
       "<div>\n",
       "<style scoped>\n",
       "    .dataframe tbody tr th:only-of-type {\n",
       "        vertical-align: middle;\n",
       "    }\n",
       "\n",
       "    .dataframe tbody tr th {\n",
       "        vertical-align: top;\n",
       "    }\n",
       "\n",
       "    .dataframe thead th {\n",
       "        text-align: right;\n",
       "    }\n",
       "</style>\n",
       "<table border=\"1\" class=\"dataframe\">\n",
       "  <thead>\n",
       "    <tr style=\"text-align: right;\">\n",
       "      <th></th>\n",
       "      <th>id</th>\n",
       "      <th>date</th>\n",
       "      <th>store_nbr</th>\n",
       "      <th>family</th>\n",
       "      <th>sales</th>\n",
       "      <th>onpromotion</th>\n",
       "      <th>dcoilwtico</th>\n",
       "      <th>type_x</th>\n",
       "      <th>locale</th>\n",
       "      <th>locale_name</th>\n",
       "      <th>description</th>\n",
       "      <th>transferred</th>\n",
       "      <th>city</th>\n",
       "      <th>state</th>\n",
       "      <th>type_y</th>\n",
       "      <th>cluster</th>\n",
       "      <th>day</th>\n",
       "      <th>week</th>\n",
       "      <th>month</th>\n",
       "      <th>year</th>\n",
       "      <th>day_of_week</th>\n",
       "    </tr>\n",
       "  </thead>\n",
       "  <tbody>\n",
       "    <tr>\n",
       "      <th>0</th>\n",
       "      <td>0</td>\n",
       "      <td>2013-01-01</td>\n",
       "      <td>1</td>\n",
       "      <td>AUTOMOTIVE</td>\n",
       "      <td>0.0</td>\n",
       "      <td>0</td>\n",
       "      <td>93.14</td>\n",
       "      <td>Holiday</td>\n",
       "      <td>National</td>\n",
       "      <td>Ecuador</td>\n",
       "      <td>Primer dia del ano</td>\n",
       "      <td>False</td>\n",
       "      <td>Quito</td>\n",
       "      <td>Pichincha</td>\n",
       "      <td>D</td>\n",
       "      <td>13</td>\n",
       "      <td>1</td>\n",
       "      <td>1</td>\n",
       "      <td>1</td>\n",
       "      <td>2013</td>\n",
       "      <td>1</td>\n",
       "    </tr>\n",
       "    <tr>\n",
       "      <th>1</th>\n",
       "      <td>1</td>\n",
       "      <td>2013-01-01</td>\n",
       "      <td>1</td>\n",
       "      <td>BABY CARE</td>\n",
       "      <td>0.0</td>\n",
       "      <td>0</td>\n",
       "      <td>93.14</td>\n",
       "      <td>Holiday</td>\n",
       "      <td>National</td>\n",
       "      <td>Ecuador</td>\n",
       "      <td>Primer dia del ano</td>\n",
       "      <td>False</td>\n",
       "      <td>Quito</td>\n",
       "      <td>Pichincha</td>\n",
       "      <td>D</td>\n",
       "      <td>13</td>\n",
       "      <td>1</td>\n",
       "      <td>1</td>\n",
       "      <td>1</td>\n",
       "      <td>2013</td>\n",
       "      <td>1</td>\n",
       "    </tr>\n",
       "    <tr>\n",
       "      <th>2</th>\n",
       "      <td>2</td>\n",
       "      <td>2013-01-01</td>\n",
       "      <td>1</td>\n",
       "      <td>BEAUTY</td>\n",
       "      <td>0.0</td>\n",
       "      <td>0</td>\n",
       "      <td>93.14</td>\n",
       "      <td>Holiday</td>\n",
       "      <td>National</td>\n",
       "      <td>Ecuador</td>\n",
       "      <td>Primer dia del ano</td>\n",
       "      <td>False</td>\n",
       "      <td>Quito</td>\n",
       "      <td>Pichincha</td>\n",
       "      <td>D</td>\n",
       "      <td>13</td>\n",
       "      <td>1</td>\n",
       "      <td>1</td>\n",
       "      <td>1</td>\n",
       "      <td>2013</td>\n",
       "      <td>1</td>\n",
       "    </tr>\n",
       "    <tr>\n",
       "      <th>3</th>\n",
       "      <td>3</td>\n",
       "      <td>2013-01-01</td>\n",
       "      <td>1</td>\n",
       "      <td>BEVERAGES</td>\n",
       "      <td>0.0</td>\n",
       "      <td>0</td>\n",
       "      <td>93.14</td>\n",
       "      <td>Holiday</td>\n",
       "      <td>National</td>\n",
       "      <td>Ecuador</td>\n",
       "      <td>Primer dia del ano</td>\n",
       "      <td>False</td>\n",
       "      <td>Quito</td>\n",
       "      <td>Pichincha</td>\n",
       "      <td>D</td>\n",
       "      <td>13</td>\n",
       "      <td>1</td>\n",
       "      <td>1</td>\n",
       "      <td>1</td>\n",
       "      <td>2013</td>\n",
       "      <td>1</td>\n",
       "    </tr>\n",
       "    <tr>\n",
       "      <th>4</th>\n",
       "      <td>4</td>\n",
       "      <td>2013-01-01</td>\n",
       "      <td>1</td>\n",
       "      <td>BOOKS</td>\n",
       "      <td>0.0</td>\n",
       "      <td>0</td>\n",
       "      <td>93.14</td>\n",
       "      <td>Holiday</td>\n",
       "      <td>National</td>\n",
       "      <td>Ecuador</td>\n",
       "      <td>Primer dia del ano</td>\n",
       "      <td>False</td>\n",
       "      <td>Quito</td>\n",
       "      <td>Pichincha</td>\n",
       "      <td>D</td>\n",
       "      <td>13</td>\n",
       "      <td>1</td>\n",
       "      <td>1</td>\n",
       "      <td>1</td>\n",
       "      <td>2013</td>\n",
       "      <td>1</td>\n",
       "    </tr>\n",
       "  </tbody>\n",
       "</table>\n",
       "</div>"
      ],
      "text/plain": [
       "   id       date  store_nbr      family  sales  onpromotion  dcoilwtico  \\\n",
       "0   0 2013-01-01          1  AUTOMOTIVE    0.0            0       93.14   \n",
       "1   1 2013-01-01          1   BABY CARE    0.0            0       93.14   \n",
       "2   2 2013-01-01          1      BEAUTY    0.0            0       93.14   \n",
       "3   3 2013-01-01          1   BEVERAGES    0.0            0       93.14   \n",
       "4   4 2013-01-01          1       BOOKS    0.0            0       93.14   \n",
       "\n",
       "    type_x    locale locale_name         description transferred   city  \\\n",
       "0  Holiday  National     Ecuador  Primer dia del ano       False  Quito   \n",
       "1  Holiday  National     Ecuador  Primer dia del ano       False  Quito   \n",
       "2  Holiday  National     Ecuador  Primer dia del ano       False  Quito   \n",
       "3  Holiday  National     Ecuador  Primer dia del ano       False  Quito   \n",
       "4  Holiday  National     Ecuador  Primer dia del ano       False  Quito   \n",
       "\n",
       "       state type_y  cluster  day  week  month  year  day_of_week  \n",
       "0  Pichincha      D       13    1     1      1  2013            1  \n",
       "1  Pichincha      D       13    1     1      1  2013            1  \n",
       "2  Pichincha      D       13    1     1      1  2013            1  \n",
       "3  Pichincha      D       13    1     1      1  2013            1  \n",
       "4  Pichincha      D       13    1     1      1  2013            1  "
      ]
     },
     "execution_count": 102,
     "metadata": {},
     "output_type": "execute_result"
    }
   ],
   "source": [
    "df.head()"
   ]
  },
  {
   "cell_type": "markdown",
   "id": "8e34306a-0746-47de-a066-af4940034717",
   "metadata": {},
   "source": [
    "Total sales have been aggregated by month to analyze monthly sales performance. \n",
    "\n",
    "- The data is grouped by the `'month'` column.\n",
    "- Sales values are summed for each month.\n",
    "- The result is sorted in descending order to highlight the months with the highest sales.\n"
   ]
  },
  {
   "cell_type": "code",
   "execution_count": 103,
   "id": "be3f2f47-0037-4598-8d8d-0588363cf0cb",
   "metadata": {},
   "outputs": [
    {
     "data": {
      "text/html": [
       "<div>\n",
       "<style scoped>\n",
       "    .dataframe tbody tr th:only-of-type {\n",
       "        vertical-align: middle;\n",
       "    }\n",
       "\n",
       "    .dataframe tbody tr th {\n",
       "        vertical-align: top;\n",
       "    }\n",
       "\n",
       "    .dataframe thead th {\n",
       "        text-align: right;\n",
       "    }\n",
       "</style>\n",
       "<table border=\"1\" class=\"dataframe\">\n",
       "  <thead>\n",
       "    <tr style=\"text-align: right;\">\n",
       "      <th></th>\n",
       "      <th>month</th>\n",
       "      <th>sales</th>\n",
       "    </tr>\n",
       "  </thead>\n",
       "  <tbody>\n",
       "    <tr>\n",
       "      <th>0</th>\n",
       "      <td>7</td>\n",
       "      <td>1.079940e+08</td>\n",
       "    </tr>\n",
       "    <tr>\n",
       "      <th>1</th>\n",
       "      <td>12</td>\n",
       "      <td>1.018821e+08</td>\n",
       "    </tr>\n",
       "    <tr>\n",
       "      <th>2</th>\n",
       "      <td>6</td>\n",
       "      <td>1.011362e+08</td>\n",
       "    </tr>\n",
       "    <tr>\n",
       "      <th>3</th>\n",
       "      <td>5</td>\n",
       "      <td>9.855253e+07</td>\n",
       "    </tr>\n",
       "    <tr>\n",
       "      <th>4</th>\n",
       "      <td>3</td>\n",
       "      <td>9.722849e+07</td>\n",
       "    </tr>\n",
       "    <tr>\n",
       "      <th>5</th>\n",
       "      <td>1</td>\n",
       "      <td>9.444215e+07</td>\n",
       "    </tr>\n",
       "    <tr>\n",
       "      <th>6</th>\n",
       "      <td>4</td>\n",
       "      <td>9.241009e+07</td>\n",
       "    </tr>\n",
       "    <tr>\n",
       "      <th>7</th>\n",
       "      <td>8</td>\n",
       "      <td>8.347238e+07</td>\n",
       "    </tr>\n",
       "    <tr>\n",
       "      <th>8</th>\n",
       "      <td>11</td>\n",
       "      <td>8.126559e+07</td>\n",
       "    </tr>\n",
       "    <tr>\n",
       "      <th>9</th>\n",
       "      <td>2</td>\n",
       "      <td>8.063723e+07</td>\n",
       "    </tr>\n",
       "    <tr>\n",
       "      <th>10</th>\n",
       "      <td>10</td>\n",
       "      <td>8.008038e+07</td>\n",
       "    </tr>\n",
       "    <tr>\n",
       "      <th>11</th>\n",
       "      <td>9</td>\n",
       "      <td>7.747368e+07</td>\n",
       "    </tr>\n",
       "  </tbody>\n",
       "</table>\n",
       "</div>"
      ],
      "text/plain": [
       "    month         sales\n",
       "0       7  1.079940e+08\n",
       "1      12  1.018821e+08\n",
       "2       6  1.011362e+08\n",
       "3       5  9.855253e+07\n",
       "4       3  9.722849e+07\n",
       "5       1  9.444215e+07\n",
       "6       4  9.241009e+07\n",
       "7       8  8.347238e+07\n",
       "8      11  8.126559e+07\n",
       "9       2  8.063723e+07\n",
       "10     10  8.008038e+07\n",
       "11      9  7.747368e+07"
      ]
     },
     "execution_count": 103,
     "metadata": {},
     "output_type": "execute_result"
    }
   ],
   "source": [
    "monthly_sales = df.groupby('month')['sales'].sum().sort_values(ascending=False).reset_index()\n",
    "monthly_sales"
   ]
  },
  {
   "cell_type": "markdown",
   "id": "7b73e706-e017-4760-9b23-2ff502b92932",
   "metadata": {},
   "source": [
    "Binary flags have been created to indicate the presence of specific events or conditions:\n",
    "\n",
    "- `'holiday_flag'`: Set to 1 if the row corresponds to a holiday (`type_x` is not missing), otherwise 0.\n",
    "- `'promotion_flag'`: Set to 1 if there is at least one item on promotion, otherwise 0.\n",
    "- `'economic_flag'`: Set to 1 if oil price data (`dcoilwtico`) is available for that date, otherwise 0.\n",
    "\n",
    "These flags can help capture the impact of holidays, promotions, and economic conditions on sales.\n"
   ]
  },
  {
   "cell_type": "code",
   "execution_count": 104,
   "id": "c39bb5e7-7d0f-43ca-8bca-2dad27600341",
   "metadata": {},
   "outputs": [],
   "source": [
    "df['holiday_flag'] = df['type_x'].notna().astype(int)\n",
    "df['promotion_flag'] = (df['onpromotion'] > 0).astype(int)\n",
    "df['economic_flag'] = df['dcoilwtico'].notna().astype(int)"
   ]
  },
  {
   "cell_type": "markdown",
   "id": "d51b41d5-a82c-4574-9d0c-15175be3b3e5",
   "metadata": {},
   "source": [
    "A new feature `'is_payday'` has been created to flag potential payday dates.\n",
    "\n",
    "- The value is set to 1 if the date is either the 15th of the month or the last day of the month (commonly associated with salary payments).\n",
    "- Otherwise, the value is set to 0.\n",
    "\n",
    "This feature may help capture sales patterns influenced by payday-related spending behavior.\n"
   ]
  },
  {
   "cell_type": "code",
   "execution_count": 105,
   "id": "796cfb21-bdfa-487a-b5e4-5fb965daca52",
   "metadata": {},
   "outputs": [],
   "source": [
    "df['is_payday'] = ((df['date'].dt.day == 15) | (df['date'].dt.day == df['date'].dt.days_in_month)).astype(int)"
   ]
  },
  {
   "cell_type": "markdown",
   "id": "b37e5aa0-85eb-43e5-8a63-5e5d3d7f293c",
   "metadata": {},
   "source": [
    "A binary feature `'earthquake'` has been created to flag the date of a known earthquake event (April 16, 2016).\n",
    "\n",
    "- The value is set to 1 for rows where the date is April 16, 2016.\n",
    "- All other dates are assigned a value of 0.\n",
    "\n",
    "This feature can help analyze the impact of the earthquake on sales data for that specific day.\n"
   ]
  },
  {
   "cell_type": "code",
   "execution_count": 106,
   "id": "1d09e511-fe3c-4971-922f-f6c9208fd11c",
   "metadata": {},
   "outputs": [],
   "source": [
    "df['earthquake'] = (df['date'] == pd.Timestamp('2016-04-16')).astype(int)"
   ]
  },
  {
   "cell_type": "markdown",
   "id": "5b8f8fdc-4e36-43b6-aa69-498aaddd4ab9",
   "metadata": {},
   "source": [
    "Rolling statistical features have been created to capture short-term trends in sales:\n",
    "\n",
    "- `'rolling_mean'`: 7-day rolling average of sales, smoothing out daily fluctuations.\n",
    "- `'rolling_std'`: 7-day rolling standard deviation of sales, measuring short-term variability.\n",
    "\n",
    "These features help the model understand recent trends and volatility in sales behavior.\n"
   ]
  },
  {
   "cell_type": "code",
   "execution_count": 107,
   "id": "e00ce3b8-2169-4e09-848b-3ddbfe33f455",
   "metadata": {},
   "outputs": [],
   "source": [
    "df['rolling_mean'] = df['sales'].rolling(window=7).mean()\n",
    "df['rolling_std'] = df['sales'].rolling(window=7).std()"
   ]
  },
  {
   "cell_type": "markdown",
   "id": "e2bb7d9b-f79a-4e43-8d9a-cf7ea343c044",
   "metadata": {},
   "source": [
    "Lag features have been created to capture past sales performance:\n",
    "\n",
    "- `'sales_prev_week'`: Sales value from 7 days ago.\n",
    "- `'sales_prev_month'`: Sales value from 30 days ago.\n",
    "\n",
    "These features help the model learn from historical sales patterns and improve forecasting accuracy.\n"
   ]
  },
  {
   "cell_type": "code",
   "execution_count": 108,
   "id": "4fb4d755-66d4-46a5-9b7d-2172590a3efc",
   "metadata": {},
   "outputs": [],
   "source": [
    "df['sales_prev_week'] = df['sales'].shift(7)\n",
    "df['sales_prev_month'] = df['sales'].shift(30)"
   ]
  },
  {
   "cell_type": "markdown",
   "id": "e99a3c2f-b6ad-4590-bf46-3471230a626f",
   "metadata": {},
   "source": [
    "Average sales have been calculated for each store type:\n",
    "\n",
    "- The data is grouped by `'type_y'` (store type).\n",
    "- The mean sales value is computed for each group.\n",
    "- The result is sorted in descending order to highlight store types with the highest average sales.\n",
    "\n",
    "This helps in understanding which store types generally perform better in terms of sales."
   ]
  },
  {
   "cell_type": "code",
   "execution_count": 109,
   "id": "fde1aec0-0513-4ccb-aceb-6d2b3c08f112",
   "metadata": {},
   "outputs": [
    {
     "data": {
      "text/html": [
       "<div>\n",
       "<style scoped>\n",
       "    .dataframe tbody tr th:only-of-type {\n",
       "        vertical-align: middle;\n",
       "    }\n",
       "\n",
       "    .dataframe tbody tr th {\n",
       "        vertical-align: top;\n",
       "    }\n",
       "\n",
       "    .dataframe thead th {\n",
       "        text-align: right;\n",
       "    }\n",
       "</style>\n",
       "<table border=\"1\" class=\"dataframe\">\n",
       "  <thead>\n",
       "    <tr style=\"text-align: right;\">\n",
       "      <th></th>\n",
       "      <th>type_y</th>\n",
       "      <th>sales</th>\n",
       "    </tr>\n",
       "  </thead>\n",
       "  <tbody>\n",
       "    <tr>\n",
       "      <th>0</th>\n",
       "      <td>A</td>\n",
       "      <td>708.378165</td>\n",
       "    </tr>\n",
       "    <tr>\n",
       "      <th>3</th>\n",
       "      <td>D</td>\n",
       "      <td>352.084510</td>\n",
       "    </tr>\n",
       "    <tr>\n",
       "      <th>1</th>\n",
       "      <td>B</td>\n",
       "      <td>328.275233</td>\n",
       "    </tr>\n",
       "    <tr>\n",
       "      <th>4</th>\n",
       "      <td>E</td>\n",
       "      <td>270.285490</td>\n",
       "    </tr>\n",
       "    <tr>\n",
       "      <th>2</th>\n",
       "      <td>C</td>\n",
       "      <td>197.790647</td>\n",
       "    </tr>\n",
       "  </tbody>\n",
       "</table>\n",
       "</div>"
      ],
      "text/plain": [
       "  type_y       sales\n",
       "0      A  708.378165\n",
       "3      D  352.084510\n",
       "1      B  328.275233\n",
       "4      E  270.285490\n",
       "2      C  197.790647"
      ]
     },
     "execution_count": 109,
     "metadata": {},
     "output_type": "execute_result"
    }
   ],
   "source": [
    "avg_sales = df.groupby('type_y')['sales'].mean().reset_index().sort_values(by='sales', ascending=False)\n",
    "avg_sales"
   ]
  },
  {
   "cell_type": "markdown",
   "id": "d64678f2-53a8-4229-bcdc-a9b5316dab9f",
   "metadata": {},
   "source": [
    "Total sales have been aggregated by store cluster and product family:\n",
    "\n",
    "- The data is grouped by `'cluster'` and `'family'`.\n",
    "- Sales values are summed within each group.\n",
    "- The result is sorted by cluster and then by sales in descending order.\n",
    "\n",
    "This helps identify the top-performing product families within each store cluster.\n"
   ]
  },
  {
   "cell_type": "code",
   "execution_count": 110,
   "id": "33b4f94e-6797-466f-b582-3545fe7f2aef",
   "metadata": {},
   "outputs": [
    {
     "data": {
      "text/html": [
       "<div>\n",
       "<style scoped>\n",
       "    .dataframe tbody tr th:only-of-type {\n",
       "        vertical-align: middle;\n",
       "    }\n",
       "\n",
       "    .dataframe tbody tr th {\n",
       "        vertical-align: top;\n",
       "    }\n",
       "\n",
       "    .dataframe thead th {\n",
       "        text-align: right;\n",
       "    }\n",
       "</style>\n",
       "<table border=\"1\" class=\"dataframe\">\n",
       "  <thead>\n",
       "    <tr style=\"text-align: right;\">\n",
       "      <th></th>\n",
       "      <th>cluster</th>\n",
       "      <th>family</th>\n",
       "      <th>sales</th>\n",
       "    </tr>\n",
       "  </thead>\n",
       "  <tbody>\n",
       "    <tr>\n",
       "      <th>12</th>\n",
       "      <td>1</td>\n",
       "      <td>GROCERY I</td>\n",
       "      <td>1.483284e+07</td>\n",
       "    </tr>\n",
       "    <tr>\n",
       "      <th>3</th>\n",
       "      <td>1</td>\n",
       "      <td>BEVERAGES</td>\n",
       "      <td>1.201252e+07</td>\n",
       "    </tr>\n",
       "    <tr>\n",
       "      <th>30</th>\n",
       "      <td>1</td>\n",
       "      <td>PRODUCE</td>\n",
       "      <td>8.221406e+06</td>\n",
       "    </tr>\n",
       "    <tr>\n",
       "      <th>7</th>\n",
       "      <td>1</td>\n",
       "      <td>CLEANING</td>\n",
       "      <td>4.063029e+06</td>\n",
       "    </tr>\n",
       "    <tr>\n",
       "      <th>8</th>\n",
       "      <td>1</td>\n",
       "      <td>DAIRY</td>\n",
       "      <td>4.010940e+06</td>\n",
       "    </tr>\n",
       "    <tr>\n",
       "      <th>...</th>\n",
       "      <td>...</td>\n",
       "      <td>...</td>\n",
       "      <td>...</td>\n",
       "    </tr>\n",
       "    <tr>\n",
       "      <th>547</th>\n",
       "      <td>17</td>\n",
       "      <td>LADIESWEAR</td>\n",
       "      <td>4.428000e+03</td>\n",
       "    </tr>\n",
       "    <tr>\n",
       "      <th>542</th>\n",
       "      <td>17</td>\n",
       "      <td>HARDWARE</td>\n",
       "      <td>2.452000e+03</td>\n",
       "    </tr>\n",
       "    <tr>\n",
       "      <th>545</th>\n",
       "      <td>17</td>\n",
       "      <td>HOME APPLIANCES</td>\n",
       "      <td>1.837000e+03</td>\n",
       "    </tr>\n",
       "    <tr>\n",
       "      <th>532</th>\n",
       "      <td>17</td>\n",
       "      <td>BOOKS</td>\n",
       "      <td>2.650000e+02</td>\n",
       "    </tr>\n",
       "    <tr>\n",
       "      <th>529</th>\n",
       "      <td>17</td>\n",
       "      <td>BABY CARE</td>\n",
       "      <td>0.000000e+00</td>\n",
       "    </tr>\n",
       "  </tbody>\n",
       "</table>\n",
       "<p>561 rows × 3 columns</p>\n",
       "</div>"
      ],
      "text/plain": [
       "     cluster           family         sales\n",
       "12         1        GROCERY I  1.483284e+07\n",
       "3          1        BEVERAGES  1.201252e+07\n",
       "30         1          PRODUCE  8.221406e+06\n",
       "7          1         CLEANING  4.063029e+06\n",
       "8          1            DAIRY  4.010940e+06\n",
       "..       ...              ...           ...\n",
       "547       17       LADIESWEAR  4.428000e+03\n",
       "542       17         HARDWARE  2.452000e+03\n",
       "545       17  HOME APPLIANCES  1.837000e+03\n",
       "532       17            BOOKS  2.650000e+02\n",
       "529       17        BABY CARE  0.000000e+00\n",
       "\n",
       "[561 rows x 3 columns]"
      ]
     },
     "execution_count": 110,
     "metadata": {},
     "output_type": "execute_result"
    }
   ],
   "source": [
    "cluster = df.groupby(['cluster', 'family'])['sales'].sum().reset_index()\n",
    "cluster = cluster.sort_values(['cluster', 'sales'], ascending=[True, False])\n",
    "cluster"
   ]
  },
  {
   "cell_type": "markdown",
   "id": "6e1bde54-4330-438a-aea4-c69c8c5e11cd",
   "metadata": {},
   "source": [
    "The top-performing product family for each store cluster has been extracted:\n",
    "\n",
    "- From the previously sorted data, only the first (i.e., highest-selling) product family in each cluster is selected.\n",
    "- This highlights the leading product family in terms of total sales for each cluster."
   ]
  },
  {
   "cell_type": "code",
   "execution_count": 111,
   "id": "ca2b2023-72fa-46cd-8328-86c913a1cf95",
   "metadata": {},
   "outputs": [
    {
     "data": {
      "text/html": [
       "<div>\n",
       "<style scoped>\n",
       "    .dataframe tbody tr th:only-of-type {\n",
       "        vertical-align: middle;\n",
       "    }\n",
       "\n",
       "    .dataframe tbody tr th {\n",
       "        vertical-align: top;\n",
       "    }\n",
       "\n",
       "    .dataframe thead th {\n",
       "        text-align: right;\n",
       "    }\n",
       "</style>\n",
       "<table border=\"1\" class=\"dataframe\">\n",
       "  <thead>\n",
       "    <tr style=\"text-align: right;\">\n",
       "      <th></th>\n",
       "      <th>cluster</th>\n",
       "      <th>family</th>\n",
       "      <th>sales</th>\n",
       "    </tr>\n",
       "  </thead>\n",
       "  <tbody>\n",
       "    <tr>\n",
       "      <th>0</th>\n",
       "      <td>1</td>\n",
       "      <td>GROCERY I</td>\n",
       "      <td>1.483284e+07</td>\n",
       "    </tr>\n",
       "    <tr>\n",
       "      <th>1</th>\n",
       "      <td>2</td>\n",
       "      <td>GROCERY I</td>\n",
       "      <td>8.649030e+06</td>\n",
       "    </tr>\n",
       "    <tr>\n",
       "      <th>2</th>\n",
       "      <td>3</td>\n",
       "      <td>GROCERY I</td>\n",
       "      <td>2.978610e+07</td>\n",
       "    </tr>\n",
       "    <tr>\n",
       "      <th>3</th>\n",
       "      <td>4</td>\n",
       "      <td>GROCERY I</td>\n",
       "      <td>1.682519e+07</td>\n",
       "    </tr>\n",
       "    <tr>\n",
       "      <th>4</th>\n",
       "      <td>5</td>\n",
       "      <td>GROCERY I</td>\n",
       "      <td>1.671595e+07</td>\n",
       "    </tr>\n",
       "    <tr>\n",
       "      <th>5</th>\n",
       "      <td>6</td>\n",
       "      <td>GROCERY I</td>\n",
       "      <td>4.397177e+07</td>\n",
       "    </tr>\n",
       "    <tr>\n",
       "      <th>6</th>\n",
       "      <td>7</td>\n",
       "      <td>GROCERY I</td>\n",
       "      <td>6.163853e+06</td>\n",
       "    </tr>\n",
       "    <tr>\n",
       "      <th>7</th>\n",
       "      <td>8</td>\n",
       "      <td>GROCERY I</td>\n",
       "      <td>2.768491e+07</td>\n",
       "    </tr>\n",
       "    <tr>\n",
       "      <th>8</th>\n",
       "      <td>9</td>\n",
       "      <td>GROCERY I</td>\n",
       "      <td>9.159591e+06</td>\n",
       "    </tr>\n",
       "    <tr>\n",
       "      <th>9</th>\n",
       "      <td>10</td>\n",
       "      <td>GROCERY I</td>\n",
       "      <td>3.021405e+07</td>\n",
       "    </tr>\n",
       "    <tr>\n",
       "      <th>10</th>\n",
       "      <td>11</td>\n",
       "      <td>GROCERY I</td>\n",
       "      <td>2.880349e+07</td>\n",
       "    </tr>\n",
       "    <tr>\n",
       "      <th>11</th>\n",
       "      <td>12</td>\n",
       "      <td>GROCERY I</td>\n",
       "      <td>6.589764e+06</td>\n",
       "    </tr>\n",
       "    <tr>\n",
       "      <th>12</th>\n",
       "      <td>13</td>\n",
       "      <td>GROCERY I</td>\n",
       "      <td>2.183388e+07</td>\n",
       "    </tr>\n",
       "    <tr>\n",
       "      <th>13</th>\n",
       "      <td>14</td>\n",
       "      <td>GROCERY I</td>\n",
       "      <td>5.394487e+07</td>\n",
       "    </tr>\n",
       "    <tr>\n",
       "      <th>14</th>\n",
       "      <td>15</td>\n",
       "      <td>GROCERY I</td>\n",
       "      <td>2.301842e+07</td>\n",
       "    </tr>\n",
       "    <tr>\n",
       "      <th>15</th>\n",
       "      <td>16</td>\n",
       "      <td>GROCERY I</td>\n",
       "      <td>4.228880e+06</td>\n",
       "    </tr>\n",
       "    <tr>\n",
       "      <th>16</th>\n",
       "      <td>17</td>\n",
       "      <td>GROCERY I</td>\n",
       "      <td>8.404701e+06</td>\n",
       "    </tr>\n",
       "  </tbody>\n",
       "</table>\n",
       "</div>"
      ],
      "text/plain": [
       "    cluster     family         sales\n",
       "0         1  GROCERY I  1.483284e+07\n",
       "1         2  GROCERY I  8.649030e+06\n",
       "2         3  GROCERY I  2.978610e+07\n",
       "3         4  GROCERY I  1.682519e+07\n",
       "4         5  GROCERY I  1.671595e+07\n",
       "5         6  GROCERY I  4.397177e+07\n",
       "6         7  GROCERY I  6.163853e+06\n",
       "7         8  GROCERY I  2.768491e+07\n",
       "8         9  GROCERY I  9.159591e+06\n",
       "9        10  GROCERY I  3.021405e+07\n",
       "10       11  GROCERY I  2.880349e+07\n",
       "11       12  GROCERY I  6.589764e+06\n",
       "12       13  GROCERY I  2.183388e+07\n",
       "13       14  GROCERY I  5.394487e+07\n",
       "14       15  GROCERY I  2.301842e+07\n",
       "15       16  GROCERY I  4.228880e+06\n",
       "16       17  GROCERY I  8.404701e+06"
      ]
     },
     "execution_count": 111,
     "metadata": {},
     "output_type": "execute_result"
    }
   ],
   "source": [
    "cluster = cluster.groupby('cluster').first().reset_index()\n",
    "cluster"
   ]
  },
  {
   "cell_type": "markdown",
   "id": "df694b3c-30e9-4f03-b376-8107e015d150",
   "metadata": {},
   "source": [
    "Missing values in the DataFrame have been filled using a combination of backward fill (`bfill`) and forward fill (`ffill`):\n",
    "\n",
    "- `bfill()` fills missing values using the next valid value.\n",
    "- `ffill()` fills any remaining missing values using the previous valid value.\n",
    "\n",
    "This ensures that all missing data is handled without introducing new values or assumptions.\n"
   ]
  },
  {
   "cell_type": "code",
   "execution_count": 112,
   "id": "c678386a-6bf4-40c1-b339-a6b938f349ea",
   "metadata": {},
   "outputs": [],
   "source": [
    "df = df.bfill().ffill()"
   ]
  },
  {
   "cell_type": "code",
   "execution_count": 113,
   "id": "d0f2c866-a61e-4e32-b3f9-061a49298cb5",
   "metadata": {},
   "outputs": [
    {
     "data": {
      "text/html": [
       "<div>\n",
       "<style scoped>\n",
       "    .dataframe tbody tr th:only-of-type {\n",
       "        vertical-align: middle;\n",
       "    }\n",
       "\n",
       "    .dataframe tbody tr th {\n",
       "        vertical-align: top;\n",
       "    }\n",
       "\n",
       "    .dataframe thead th {\n",
       "        text-align: right;\n",
       "    }\n",
       "</style>\n",
       "<table border=\"1\" class=\"dataframe\">\n",
       "  <thead>\n",
       "    <tr style=\"text-align: right;\">\n",
       "      <th></th>\n",
       "      <th>id</th>\n",
       "      <th>date</th>\n",
       "      <th>store_nbr</th>\n",
       "      <th>family</th>\n",
       "      <th>sales</th>\n",
       "      <th>onpromotion</th>\n",
       "      <th>dcoilwtico</th>\n",
       "      <th>type_x</th>\n",
       "      <th>locale</th>\n",
       "      <th>locale_name</th>\n",
       "      <th>description</th>\n",
       "      <th>transferred</th>\n",
       "      <th>city</th>\n",
       "      <th>state</th>\n",
       "      <th>type_y</th>\n",
       "      <th>cluster</th>\n",
       "      <th>day</th>\n",
       "      <th>week</th>\n",
       "      <th>month</th>\n",
       "      <th>year</th>\n",
       "      <th>day_of_week</th>\n",
       "      <th>holiday_flag</th>\n",
       "      <th>promotion_flag</th>\n",
       "      <th>economic_flag</th>\n",
       "      <th>is_payday</th>\n",
       "      <th>earthquake</th>\n",
       "      <th>rolling_mean</th>\n",
       "      <th>rolling_std</th>\n",
       "      <th>sales_prev_week</th>\n",
       "      <th>sales_prev_month</th>\n",
       "    </tr>\n",
       "  </thead>\n",
       "  <tbody>\n",
       "    <tr>\n",
       "      <th>0</th>\n",
       "      <td>0</td>\n",
       "      <td>2013-01-01</td>\n",
       "      <td>1</td>\n",
       "      <td>AUTOMOTIVE</td>\n",
       "      <td>0.0</td>\n",
       "      <td>0</td>\n",
       "      <td>93.14</td>\n",
       "      <td>Holiday</td>\n",
       "      <td>National</td>\n",
       "      <td>Ecuador</td>\n",
       "      <td>Primer dia del ano</td>\n",
       "      <td>False</td>\n",
       "      <td>Quito</td>\n",
       "      <td>Pichincha</td>\n",
       "      <td>D</td>\n",
       "      <td>13</td>\n",
       "      <td>1</td>\n",
       "      <td>1</td>\n",
       "      <td>1</td>\n",
       "      <td>2013</td>\n",
       "      <td>1</td>\n",
       "      <td>1</td>\n",
       "      <td>0</td>\n",
       "      <td>1</td>\n",
       "      <td>0</td>\n",
       "      <td>0</td>\n",
       "      <td>0.0</td>\n",
       "      <td>0.0</td>\n",
       "      <td>0.0</td>\n",
       "      <td>0.0</td>\n",
       "    </tr>\n",
       "    <tr>\n",
       "      <th>1</th>\n",
       "      <td>1</td>\n",
       "      <td>2013-01-01</td>\n",
       "      <td>1</td>\n",
       "      <td>BABY CARE</td>\n",
       "      <td>0.0</td>\n",
       "      <td>0</td>\n",
       "      <td>93.14</td>\n",
       "      <td>Holiday</td>\n",
       "      <td>National</td>\n",
       "      <td>Ecuador</td>\n",
       "      <td>Primer dia del ano</td>\n",
       "      <td>False</td>\n",
       "      <td>Quito</td>\n",
       "      <td>Pichincha</td>\n",
       "      <td>D</td>\n",
       "      <td>13</td>\n",
       "      <td>1</td>\n",
       "      <td>1</td>\n",
       "      <td>1</td>\n",
       "      <td>2013</td>\n",
       "      <td>1</td>\n",
       "      <td>1</td>\n",
       "      <td>0</td>\n",
       "      <td>1</td>\n",
       "      <td>0</td>\n",
       "      <td>0</td>\n",
       "      <td>0.0</td>\n",
       "      <td>0.0</td>\n",
       "      <td>0.0</td>\n",
       "      <td>0.0</td>\n",
       "    </tr>\n",
       "    <tr>\n",
       "      <th>2</th>\n",
       "      <td>2</td>\n",
       "      <td>2013-01-01</td>\n",
       "      <td>1</td>\n",
       "      <td>BEAUTY</td>\n",
       "      <td>0.0</td>\n",
       "      <td>0</td>\n",
       "      <td>93.14</td>\n",
       "      <td>Holiday</td>\n",
       "      <td>National</td>\n",
       "      <td>Ecuador</td>\n",
       "      <td>Primer dia del ano</td>\n",
       "      <td>False</td>\n",
       "      <td>Quito</td>\n",
       "      <td>Pichincha</td>\n",
       "      <td>D</td>\n",
       "      <td>13</td>\n",
       "      <td>1</td>\n",
       "      <td>1</td>\n",
       "      <td>1</td>\n",
       "      <td>2013</td>\n",
       "      <td>1</td>\n",
       "      <td>1</td>\n",
       "      <td>0</td>\n",
       "      <td>1</td>\n",
       "      <td>0</td>\n",
       "      <td>0</td>\n",
       "      <td>0.0</td>\n",
       "      <td>0.0</td>\n",
       "      <td>0.0</td>\n",
       "      <td>0.0</td>\n",
       "    </tr>\n",
       "    <tr>\n",
       "      <th>3</th>\n",
       "      <td>3</td>\n",
       "      <td>2013-01-01</td>\n",
       "      <td>1</td>\n",
       "      <td>BEVERAGES</td>\n",
       "      <td>0.0</td>\n",
       "      <td>0</td>\n",
       "      <td>93.14</td>\n",
       "      <td>Holiday</td>\n",
       "      <td>National</td>\n",
       "      <td>Ecuador</td>\n",
       "      <td>Primer dia del ano</td>\n",
       "      <td>False</td>\n",
       "      <td>Quito</td>\n",
       "      <td>Pichincha</td>\n",
       "      <td>D</td>\n",
       "      <td>13</td>\n",
       "      <td>1</td>\n",
       "      <td>1</td>\n",
       "      <td>1</td>\n",
       "      <td>2013</td>\n",
       "      <td>1</td>\n",
       "      <td>1</td>\n",
       "      <td>0</td>\n",
       "      <td>1</td>\n",
       "      <td>0</td>\n",
       "      <td>0</td>\n",
       "      <td>0.0</td>\n",
       "      <td>0.0</td>\n",
       "      <td>0.0</td>\n",
       "      <td>0.0</td>\n",
       "    </tr>\n",
       "    <tr>\n",
       "      <th>4</th>\n",
       "      <td>4</td>\n",
       "      <td>2013-01-01</td>\n",
       "      <td>1</td>\n",
       "      <td>BOOKS</td>\n",
       "      <td>0.0</td>\n",
       "      <td>0</td>\n",
       "      <td>93.14</td>\n",
       "      <td>Holiday</td>\n",
       "      <td>National</td>\n",
       "      <td>Ecuador</td>\n",
       "      <td>Primer dia del ano</td>\n",
       "      <td>False</td>\n",
       "      <td>Quito</td>\n",
       "      <td>Pichincha</td>\n",
       "      <td>D</td>\n",
       "      <td>13</td>\n",
       "      <td>1</td>\n",
       "      <td>1</td>\n",
       "      <td>1</td>\n",
       "      <td>2013</td>\n",
       "      <td>1</td>\n",
       "      <td>1</td>\n",
       "      <td>0</td>\n",
       "      <td>1</td>\n",
       "      <td>0</td>\n",
       "      <td>0</td>\n",
       "      <td>0.0</td>\n",
       "      <td>0.0</td>\n",
       "      <td>0.0</td>\n",
       "      <td>0.0</td>\n",
       "    </tr>\n",
       "  </tbody>\n",
       "</table>\n",
       "</div>"
      ],
      "text/plain": [
       "   id       date  store_nbr      family  sales  onpromotion  dcoilwtico  \\\n",
       "0   0 2013-01-01          1  AUTOMOTIVE    0.0            0       93.14   \n",
       "1   1 2013-01-01          1   BABY CARE    0.0            0       93.14   \n",
       "2   2 2013-01-01          1      BEAUTY    0.0            0       93.14   \n",
       "3   3 2013-01-01          1   BEVERAGES    0.0            0       93.14   \n",
       "4   4 2013-01-01          1       BOOKS    0.0            0       93.14   \n",
       "\n",
       "    type_x    locale locale_name         description transferred   city  \\\n",
       "0  Holiday  National     Ecuador  Primer dia del ano       False  Quito   \n",
       "1  Holiday  National     Ecuador  Primer dia del ano       False  Quito   \n",
       "2  Holiday  National     Ecuador  Primer dia del ano       False  Quito   \n",
       "3  Holiday  National     Ecuador  Primer dia del ano       False  Quito   \n",
       "4  Holiday  National     Ecuador  Primer dia del ano       False  Quito   \n",
       "\n",
       "       state type_y  cluster  day  week  month  year  day_of_week  \\\n",
       "0  Pichincha      D       13    1     1      1  2013            1   \n",
       "1  Pichincha      D       13    1     1      1  2013            1   \n",
       "2  Pichincha      D       13    1     1      1  2013            1   \n",
       "3  Pichincha      D       13    1     1      1  2013            1   \n",
       "4  Pichincha      D       13    1     1      1  2013            1   \n",
       "\n",
       "   holiday_flag  promotion_flag  economic_flag  is_payday  earthquake  \\\n",
       "0             1               0              1          0           0   \n",
       "1             1               0              1          0           0   \n",
       "2             1               0              1          0           0   \n",
       "3             1               0              1          0           0   \n",
       "4             1               0              1          0           0   \n",
       "\n",
       "   rolling_mean  rolling_std  sales_prev_week  sales_prev_month  \n",
       "0           0.0          0.0              0.0               0.0  \n",
       "1           0.0          0.0              0.0               0.0  \n",
       "2           0.0          0.0              0.0               0.0  \n",
       "3           0.0          0.0              0.0               0.0  \n",
       "4           0.0          0.0              0.0               0.0  "
      ]
     },
     "execution_count": 113,
     "metadata": {},
     "output_type": "execute_result"
    }
   ],
   "source": [
    "df.head()"
   ]
  },
  {
   "cell_type": "markdown",
   "id": "1cbfbb05-9b54-43ec-bcf5-99653417b665",
   "metadata": {},
   "source": [
    "## 3. Exploratory Data Analysis (EDA)"
   ]
  },
  {
   "cell_type": "markdown",
   "id": "b28677a2-15e5-4b69-a5ee-b851af121d1c",
   "metadata": {},
   "source": [
    "A time series line plot has been created to visualize total sales over time:\n",
    "\n",
    "- Sales are grouped by year and summed to show overall daily performance.\n",
    "- The plot provides a clear view of trends, seasonality, and any potential anomalies in sales data over time.\n"
   ]
  },
  {
   "cell_type": "code",
   "execution_count": 114,
   "id": "033c600c-a101-40f8-bfae-a272b1c3ec84",
   "metadata": {},
   "outputs": [
    {
     "data": {
      "image/png": "[encoded data removed]",
      "text/plain": [
       "<Figure size 1200x600 with 1 Axes>"
      ]
     },
     "metadata": {},
     "output_type": "display_data"
    }
   ],
   "source": [
    "plt.figure(figsize=(12, 6))\n",
    "df.groupby('date')['sales'].sum().plot()\n",
    "plt.title(\"Sales Over Time\")\n",
    "plt.xlabel(\"year\")\n",
    "plt.ylabel(\"Sales\")\n",
    "plt.grid(True)\n",
    "plt.show()"
   ]
  },
  {
   "cell_type": "markdown",
   "id": "23f8ede1-e3ff-4517-87d1-3084a0a51f71",
   "metadata": {},
   "source": [
    "A multi-line plot has been created to compare monthly sales trends across different years:\n",
    "\n",
    "- Sales are grouped by both `'year'` and `'month'`, then summed.\n",
    "- A pivot table is used to reshape the data, placing years as columns and months as rows.\n",
    "- The resulting plot shows how sales vary month-by-month for each year, helping identify seasonal patterns and year-over-year trends.\n"
   ]
  },
  {
   "cell_type": "code",
   "execution_count": 115,
   "id": "218c3cdf-26f6-457a-963c-1320cdae6aa9",
   "metadata": {},
   "outputs": [
    {
     "data": {
      "text/plain": [
       "<Figure size 1200x600 with 0 Axes>"
      ]
     },
     "metadata": {},
     "output_type": "display_data"
    },
    {
     "data": {
      "image/png": "[encoded data removed]",
      "text/plain": [
       "<Figure size 640x480 with 1 Axes>"
      ]
     },
     "metadata": {},
     "output_type": "display_data"
    }
   ],
   "source": [
    "monthly_sales = df.groupby(['year', 'month'])['sales'].sum().reset_index()\n",
    "\n",
    "pivot_table = monthly_sales.pivot(index='month', columns='year', values='sales')\n",
    "plt.figure(figsize=(12, 6))\n",
    "pivot_table.plot(marker='o')\n",
    "plt.title(\"Monthly Sales Trend by Year\")\n",
    "plt.xlabel(\"Month\")\n",
    "plt.ylabel(\"Total Sales\")\n",
    "plt.xticks(ticks=range(1, 13), labels=['Jan', 'Feb', 'Mar', 'Apr', 'May', 'Jun','Jul', 'Aug', 'Sep', 'Oct', 'Nov', 'Dec'])\n",
    "plt.grid(True)\n",
    "plt.legend(title='Year')\n",
    "plt.tight_layout()\n",
    "plt.show()"
   ]
  },
  {
   "cell_type": "markdown",
   "id": "ee55aa6e-892a-4d0e-adce-8de58e85bae5",
   "metadata": {},
   "source": [
    "A box plot has been created to compare sales on holidays versus non-holidays:\n",
    "\n",
    "- `'holiday_flag'` is used to distinguish between holiday (1) and non-holiday (0) dates.\n",
    "- The plot shows the distribution of sales for both categories, helping to assess the impact of holidays on sales performance.\n"
   ]
  },
  {
   "cell_type": "code",
   "execution_count": 116,
   "id": "373d910f-b6d8-4c6a-b11c-d4cef43493a7",
   "metadata": {},
   "outputs": [
    {
     "data": {
      "image/png": "[encoded data removed]",
      "text/plain": [
       "<Figure size 600x400 with 1 Axes>"
      ]
     },
     "metadata": {},
     "output_type": "display_data"
    }
   ],
   "source": [
    "plt.figure(figsize=(6, 4))\n",
    "sns.boxplot(x='holiday_flag', y='sales', data=df)\n",
    "plt.title(\"Sales: Holidays (1) vs Non-Holidays (0)\")\n",
    "plt.xlabel(\"Holiday\")\n",
    "plt.ylabel(\"Sales\")\n",
    "plt.show()"
   ]
  },
  {
   "cell_type": "markdown",
   "id": "de3a7630-4b81-4cd2-b58f-8256cfaf068b",
   "metadata": {},
   "source": [
    "A box plot has been created to compare sales on promotion days versus non-promotion days:\n",
    "\n",
    "- `'promotion_flag'` indicates whether a promotion was active (1) or not (0).\n",
    "- The plot displays the distribution of sales for both scenarios, helping evaluate the effect of promotions on sales.\n"
   ]
  },
  {
   "cell_type": "code",
   "execution_count": 117,
   "id": "84ca6c52-9e1b-4fa1-909c-3627158e10f9",
   "metadata": {},
   "outputs": [
    {
     "data": {
      "image/png": "[encoded data removed]",
      "text/plain": [
       "<Figure size 600x400 with 1 Axes>"
      ]
     },
     "metadata": {},
     "output_type": "display_data"
    }
   ],
   "source": [
    "plt.figure(figsize=(6, 4))\n",
    "sns.boxplot(x='promotion_flag', y='sales', data=df)\n",
    "plt.title(\"Sales: Promotion Days vs Non-Promotion Days\")\n",
    "plt.xlabel(\"Promotion\")\n",
    "plt.ylabel(\"Sales\")\n",
    "plt.show()"
   ]
  },
  {
   "cell_type": "markdown",
   "id": "af25f6b8-4100-4fa3-bf1a-73b312b7d027",
   "metadata": {},
   "source": [
    "A dual line plot has been created to visualize the relationship between sales and oil prices over time:\n",
    "\n",
    "- Both `'sales'` and `'dcoilwtico'` (oil price) are plotted against the date.\n",
    "- This visualization helps identify an|y potential correlation or trends between economic conditions and sales performance.\n"
   ]
  },
  {
   "cell_type": "code",
   "execution_count": 118,
   "id": "d513deae-3849-4159-b5b2-dfb0e5a01b9b",
   "metadata": {},
   "outputs": [
    {
     "data": {
      "image/png": "[encoded data removed]",
      "text/plain": [
       "<Figure size 1200x600 with 1 Axes>"
      ]
     },
     "metadata": {},
     "output_type": "display_data"
    }
   ],
   "source": [
    "plt.figure(figsize=(12, 6))\n",
    "plt.plot(df['date'], df['sales'], label='Sales', alpha=0.7)\n",
    "plt.plot(df['date'], df['dcoilwtico'], label='Oil Price', alpha=0.7)\n",
    "plt.title(\"Sales vs Oil Price Over Time\")\n",
    "plt.legend()\n",
    "plt.grid(True)\n",
    "plt.show()"
   ]
  },
  {
   "cell_type": "markdown",
   "id": "7599a127-0c8a-464f-aa3d-e6734d9eaaa0",
   "metadata": {},
   "source": [
    "The correlation between sales and oil prices has been calculated:\n",
    "\n",
    "- The `.corr()` method computes the Pearson correlation coefficient between `'sales'` and `'dcoilwtico'`.\n",
    "- This helps quantify the strength and direction of the linear relationship between the two variables.\n"
   ]
  },
  {
   "cell_type": "code",
   "execution_count": 119,
   "id": "f51f9a55-5b7a-4fa6-85aa-2c5b53835d75",
   "metadata": {},
   "outputs": [
    {
     "name": "stdout",
     "output_type": "stream",
     "text": [
      "               sales  dcoilwtico\n",
      "sales       1.000000   -0.075606\n",
      "dcoilwtico -0.075606    1.000000\n"
     ]
    }
   ],
   "source": [
    "correlation = df[['sales', 'dcoilwtico']].corr()\n",
    "print(correlation)"
   ]
  },
  {
   "cell_type": "markdown",
   "id": "44329894-99bc-4bc5-a2ca-3feaa98a2204",
   "metadata": {},
   "source": [
    "Z-score was calculated for the `'sales'` column to detect anomalies:\n",
    "\n",
    "- The `zscore()` function standardizes the sales data.\n",
    "- Data points with a Z-score greater than 3 or less than -3 are considered outliers.\n",
    "- These anomalies are identified and stored in the `anomalies` DataFrame for further investigation.\n"
   ]
  },
  {
   "cell_type": "code",
   "execution_count": 120,
   "id": "7422b5ab-7832-432e-991d-4abf60c670d2",
   "metadata": {},
   "outputs": [],
   "source": [
    "df['z_score'] = zscore(df['sales'])\n",
    "anomalies = df[np.abs(df['z_score']) > 3]"
   ]
  },
  {
   "cell_type": "code",
   "execution_count": 44,
   "id": "8b6e0151-e4b5-418b-be3f-648a68a8ee66",
   "metadata": {},
   "outputs": [
    {
     "data": {
      "text/html": [
       "<div>\n",
       "<style scoped>\n",
       "    .dataframe tbody tr th:only-of-type {\n",
       "        vertical-align: middle;\n",
       "    }\n",
       "\n",
       "    .dataframe tbody tr th {\n",
       "        vertical-align: top;\n",
       "    }\n",
       "\n",
       "    .dataframe thead th {\n",
       "        text-align: right;\n",
       "    }\n",
       "</style>\n",
       "<table border=\"1\" class=\"dataframe\">\n",
       "  <thead>\n",
       "    <tr style=\"text-align: right;\">\n",
       "      <th></th>\n",
       "      <th>id</th>\n",
       "      <th>date</th>\n",
       "      <th>store_nbr</th>\n",
       "      <th>family</th>\n",
       "      <th>sales</th>\n",
       "      <th>onpromotion</th>\n",
       "      <th>dcoilwtico</th>\n",
       "      <th>type_x</th>\n",
       "      <th>locale</th>\n",
       "      <th>locale_name</th>\n",
       "      <th>description</th>\n",
       "      <th>transferred</th>\n",
       "      <th>city</th>\n",
       "      <th>state</th>\n",
       "      <th>type_y</th>\n",
       "      <th>cluster</th>\n",
       "      <th>day</th>\n",
       "      <th>week</th>\n",
       "      <th>month</th>\n",
       "      <th>year</th>\n",
       "      <th>day_of_week</th>\n",
       "      <th>holiday_flag</th>\n",
       "      <th>promotion_flag</th>\n",
       "      <th>economic_flag</th>\n",
       "      <th>is_payday</th>\n",
       "      <th>earthquake</th>\n",
       "      <th>rolling_mean</th>\n",
       "      <th>rolling_std</th>\n",
       "      <th>sales_prev_week</th>\n",
       "      <th>sales_prev_month</th>\n",
       "      <th>z_score</th>\n",
       "    </tr>\n",
       "  </thead>\n",
       "  <tbody>\n",
       "    <tr>\n",
       "      <th>0</th>\n",
       "      <td>0</td>\n",
       "      <td>2013-01-01</td>\n",
       "      <td>1</td>\n",
       "      <td>AUTOMOTIVE</td>\n",
       "      <td>0.0</td>\n",
       "      <td>0</td>\n",
       "      <td>93.14</td>\n",
       "      <td>Holiday</td>\n",
       "      <td>National</td>\n",
       "      <td>Ecuador</td>\n",
       "      <td>Primer dia del ano</td>\n",
       "      <td>False</td>\n",
       "      <td>Quito</td>\n",
       "      <td>Pichincha</td>\n",
       "      <td>D</td>\n",
       "      <td>13</td>\n",
       "      <td>1</td>\n",
       "      <td>1</td>\n",
       "      <td>1</td>\n",
       "      <td>2013</td>\n",
       "      <td>1</td>\n",
       "      <td>1</td>\n",
       "      <td>0</td>\n",
       "      <td>1</td>\n",
       "      <td>0</td>\n",
       "      <td>0</td>\n",
       "      <td>0.0</td>\n",
       "      <td>0.0</td>\n",
       "      <td>0.0</td>\n",
       "      <td>0.0</td>\n",
       "      <td>-0.324235</td>\n",
       "    </tr>\n",
       "    <tr>\n",
       "      <th>1</th>\n",
       "      <td>1</td>\n",
       "      <td>2013-01-01</td>\n",
       "      <td>1</td>\n",
       "      <td>BABY CARE</td>\n",
       "      <td>0.0</td>\n",
       "      <td>0</td>\n",
       "      <td>93.14</td>\n",
       "      <td>Holiday</td>\n",
       "      <td>National</td>\n",
       "      <td>Ecuador</td>\n",
       "      <td>Primer dia del ano</td>\n",
       "      <td>False</td>\n",
       "      <td>Quito</td>\n",
       "      <td>Pichincha</td>\n",
       "      <td>D</td>\n",
       "      <td>13</td>\n",
       "      <td>1</td>\n",
       "      <td>1</td>\n",
       "      <td>1</td>\n",
       "      <td>2013</td>\n",
       "      <td>1</td>\n",
       "      <td>1</td>\n",
       "      <td>0</td>\n",
       "      <td>1</td>\n",
       "      <td>0</td>\n",
       "      <td>0</td>\n",
       "      <td>0.0</td>\n",
       "      <td>0.0</td>\n",
       "      <td>0.0</td>\n",
       "      <td>0.0</td>\n",
       "      <td>-0.324235</td>\n",
       "    </tr>\n",
       "    <tr>\n",
       "      <th>2</th>\n",
       "      <td>2</td>\n",
       "      <td>2013-01-01</td>\n",
       "      <td>1</td>\n",
       "      <td>BEAUTY</td>\n",
       "      <td>0.0</td>\n",
       "      <td>0</td>\n",
       "      <td>93.14</td>\n",
       "      <td>Holiday</td>\n",
       "      <td>National</td>\n",
       "      <td>Ecuador</td>\n",
       "      <td>Primer dia del ano</td>\n",
       "      <td>False</td>\n",
       "      <td>Quito</td>\n",
       "      <td>Pichincha</td>\n",
       "      <td>D</td>\n",
       "      <td>13</td>\n",
       "      <td>1</td>\n",
       "      <td>1</td>\n",
       "      <td>1</td>\n",
       "      <td>2013</td>\n",
       "      <td>1</td>\n",
       "      <td>1</td>\n",
       "      <td>0</td>\n",
       "      <td>1</td>\n",
       "      <td>0</td>\n",
       "      <td>0</td>\n",
       "      <td>0.0</td>\n",
       "      <td>0.0</td>\n",
       "      <td>0.0</td>\n",
       "      <td>0.0</td>\n",
       "      <td>-0.324235</td>\n",
       "    </tr>\n",
       "    <tr>\n",
       "      <th>3</th>\n",
       "      <td>3</td>\n",
       "      <td>2013-01-01</td>\n",
       "      <td>1</td>\n",
       "      <td>BEVERAGES</td>\n",
       "      <td>0.0</td>\n",
       "      <td>0</td>\n",
       "      <td>93.14</td>\n",
       "      <td>Holiday</td>\n",
       "      <td>National</td>\n",
       "      <td>Ecuador</td>\n",
       "      <td>Primer dia del ano</td>\n",
       "      <td>False</td>\n",
       "      <td>Quito</td>\n",
       "      <td>Pichincha</td>\n",
       "      <td>D</td>\n",
       "      <td>13</td>\n",
       "      <td>1</td>\n",
       "      <td>1</td>\n",
       "      <td>1</td>\n",
       "      <td>2013</td>\n",
       "      <td>1</td>\n",
       "      <td>1</td>\n",
       "      <td>0</td>\n",
       "      <td>1</td>\n",
       "      <td>0</td>\n",
       "      <td>0</td>\n",
       "      <td>0.0</td>\n",
       "      <td>0.0</td>\n",
       "      <td>0.0</td>\n",
       "      <td>0.0</td>\n",
       "      <td>-0.324235</td>\n",
       "    </tr>\n",
       "    <tr>\n",
       "      <th>4</th>\n",
       "      <td>4</td>\n",
       "      <td>2013-01-01</td>\n",
       "      <td>1</td>\n",
       "      <td>BOOKS</td>\n",
       "      <td>0.0</td>\n",
       "      <td>0</td>\n",
       "      <td>93.14</td>\n",
       "      <td>Holiday</td>\n",
       "      <td>National</td>\n",
       "      <td>Ecuador</td>\n",
       "      <td>Primer dia del ano</td>\n",
       "      <td>False</td>\n",
       "      <td>Quito</td>\n",
       "      <td>Pichincha</td>\n",
       "      <td>D</td>\n",
       "      <td>13</td>\n",
       "      <td>1</td>\n",
       "      <td>1</td>\n",
       "      <td>1</td>\n",
       "      <td>2013</td>\n",
       "      <td>1</td>\n",
       "      <td>1</td>\n",
       "      <td>0</td>\n",
       "      <td>1</td>\n",
       "      <td>0</td>\n",
       "      <td>0</td>\n",
       "      <td>0.0</td>\n",
       "      <td>0.0</td>\n",
       "      <td>0.0</td>\n",
       "      <td>0.0</td>\n",
       "      <td>-0.324235</td>\n",
       "    </tr>\n",
       "  </tbody>\n",
       "</table>\n",
       "</div>"
      ],
      "text/plain": [
       "   id       date  store_nbr      family  sales  onpromotion  dcoilwtico  \\\n",
       "0   0 2013-01-01          1  AUTOMOTIVE    0.0            0       93.14   \n",
       "1   1 2013-01-01          1   BABY CARE    0.0            0       93.14   \n",
       "2   2 2013-01-01          1      BEAUTY    0.0            0       93.14   \n",
       "3   3 2013-01-01          1   BEVERAGES    0.0            0       93.14   \n",
       "4   4 2013-01-01          1       BOOKS    0.0            0       93.14   \n",
       "\n",
       "    type_x    locale locale_name         description transferred   city  \\\n",
       "0  Holiday  National     Ecuador  Primer dia del ano       False  Quito   \n",
       "1  Holiday  National     Ecuador  Primer dia del ano       False  Quito   \n",
       "2  Holiday  National     Ecuador  Primer dia del ano       False  Quito   \n",
       "3  Holiday  National     Ecuador  Primer dia del ano       False  Quito   \n",
       "4  Holiday  National     Ecuador  Primer dia del ano       False  Quito   \n",
       "\n",
       "       state type_y  cluster  day  week  month  year  day_of_week  \\\n",
       "0  Pichincha      D       13    1     1      1  2013            1   \n",
       "1  Pichincha      D       13    1     1      1  2013            1   \n",
       "2  Pichincha      D       13    1     1      1  2013            1   \n",
       "3  Pichincha      D       13    1     1      1  2013            1   \n",
       "4  Pichincha      D       13    1     1      1  2013            1   \n",
       "\n",
       "   holiday_flag  promotion_flag  economic_flag  is_payday  earthquake  \\\n",
       "0             1               0              1          0           0   \n",
       "1             1               0              1          0           0   \n",
       "2             1               0              1          0           0   \n",
       "3             1               0              1          0           0   \n",
       "4             1               0              1          0           0   \n",
       "\n",
       "   rolling_mean  rolling_std  sales_prev_week  sales_prev_month   z_score  \n",
       "0           0.0          0.0              0.0               0.0 -0.324235  \n",
       "1           0.0          0.0              0.0               0.0 -0.324235  \n",
       "2           0.0          0.0              0.0               0.0 -0.324235  \n",
       "3           0.0          0.0              0.0               0.0 -0.324235  \n",
       "4           0.0          0.0              0.0               0.0 -0.324235  "
      ]
     },
     "execution_count": 44,
     "metadata": {},
     "output_type": "execute_result"
    }
   ],
   "source": [
    "df.head()"
   ]
  },
  {
   "cell_type": "markdown",
   "id": "d383b85c-d841-47a5-98d9-34823ad4acab",
   "metadata": {},
   "source": [
    "# Part 2: Model Training, Forecasting & Evaluation"
   ]
  },
  {
   "cell_type": "markdown",
   "id": "08c42067-7999-41a1-8c23-ffcc38593fc6",
   "metadata": {},
   "source": [
    "### 1. Model Training\n",
    "In this section, we train and evaluate five different time series forecasting models:\n",
    "\n",
    "- Naïve Forecasting: Assumes that future sales are the same as the previous day.\n",
    "\n",
    "- ARIMA: A classical time series model based on autoregression and moving averages.\n",
    "\n",
    "- Random Forest: A tree-based ensemble model for non-linear pattern learning.\n",
    "\n",
    "- XGBoost: A powerful gradient boosting model optimized for accuracy and speed.\n",
    "\n",
    "- LSTM: A deep learning model designed to handle sequence data like time series"
   ]
  },
  {
   "cell_type": "markdown",
   "id": "522e375b-1e9e-4ea1-88b3-202958a71fb6",
   "metadata": {},
   "source": [
    "###  Splitting Features and Target for Training and Testing\n",
    "\n",
    "- Selected useful features like promotions, oil prices, date parts (day, month, etc.), holiday and economic indicators, and rolling statistics.\n",
    "- Defined the target variable as `sales`.\n",
    "- Split the dataset into training (before July 1, 2017) and testing (from July 1, 2017 onward).\n",
    "- Separated features (`X`) and target (`y`) for both training and testing sets.\n"
   ]
  },
  {
   "cell_type": "code",
   "execution_count": 45,
   "id": "e52b2224-d429-4aca-a320-110b32e8e7fd",
   "metadata": {},
   "outputs": [],
   "source": [
    "features = ['onpromotion', 'dcoilwtico', 'day', 'month', 'year', 'day_of_week',\n",
    "            'holiday_flag', 'promotion_flag', 'economic_flag', 'is_payday',\n",
    "            'rolling_mean', 'rolling_std', 'sales_prev_week', 'sales_prev_month']\n",
    "target = 'sales'\n",
    "\n",
    "train = df[df['date'] < '2017-07-01']\n",
    "test = df[df['date'] >= '2017-07-01']\n",
    "\n",
    "X_train, y_train = train[features], train[target]\n",
    "X_test, y_test = test[features], test[target]"
   ]
  },
  {
   "cell_type": "markdown",
   "id": "f3cc9e07-8b30-4003-9f90-7282fd29ddc3",
   "metadata": {},
   "source": [
    "#### Naïve Forecast (Baseline Model)\n",
    "\n",
    "- For the baseline model, we simply predict that sales will be the same as they were in the previous week.\n",
    "- This sets a benchmark to compare more advanced models against."
   ]
  },
  {
   "cell_type": "code",
   "execution_count": 46,
   "id": "7e58d0e5-02de-490e-affd-be9ac882bb0f",
   "metadata": {},
   "outputs": [],
   "source": [
    "naive_pred = test['sales_prev_week']"
   ]
  },
  {
   "cell_type": "markdown",
   "id": "f9024bbb-de38-4844-8dd5-4e853b756692",
   "metadata": {},
   "source": [
    "- Created a baseline prediction by shifting the actual sales by one day.\n",
    "- This assumes today's sales will be the same as yesterday’s — a common baseline in time series forecasting.\n"
   ]
  },
  {
   "cell_type": "code",
   "execution_count": 52,
   "id": "782aedca-aeec-4e7a-ac5d-e517cc0bfca4",
   "metadata": {},
   "outputs": [],
   "source": [
    "test['naive_pred'] = test['sales'].shift(1)"
   ]
  },
  {
   "cell_type": "markdown",
   "id": "38b0bdf6-b6d1-42c4-baeb-7755efcc0cef",
   "metadata": {},
   "source": [
    "- Filled the missing value in the naïve prediction (which occurs at the first test row) with the last known sales value from the training set.\n",
    "- This ensures there are no `NaN` values in the predictions.\n"
   ]
  },
  {
   "cell_type": "code",
   "execution_count": 53,
   "id": "25e8fbd6-191c-4405-9312-3485e8080139",
   "metadata": {},
   "outputs": [],
   "source": [
    "test['naive_pred'].fillna(train['sales'].iloc[-1], inplace=True)"
   ]
  },
  {
   "cell_type": "markdown",
   "id": "bfe4093d-c6e3-45bc-b5a8-7d4b810d6f57",
   "metadata": {},
   "source": [
    "#### ARIMA Model (Traditional Time Series)\n",
    "\n",
    "- We used an ARIMA model to forecast future sales based on historical daily totals.\n",
    "- The model was trained on data up to June 30, 2017.\n",
    "- We used `(5,1,0)` as the order parameters:\n",
    "  - 5: number of lag observations (AR)\n",
    "  - 1: differencing (to make the series stationary)\n",
    "  - 0: no moving average component (MA)\n",
    "- Forecasted values were clipped to avoid negative predictions.\n"
   ]
  },
  {
   "cell_type": "code",
   "execution_count": 47,
   "id": "b13c672f-50ed-4dc3-b635-974b85d30423",
   "metadata": {},
   "outputs": [],
   "source": [
    "sales_series = df.groupby('date')['sales'].sum()\n",
    "\n",
    "model = ARIMA(sales_series[:'2017-06-30'], order=(5,1,0))\n",
    "model_fit = model.fit()\n",
    "arima_forecast = model_fit.forecast(steps=len(test))\n",
    "\n",
    "arima_forecast = np.clip(arima_forecast.values, 0, None) "
   ]
  },
  {
   "cell_type": "markdown",
   "id": "fef64a36-67a5-496f-8c8f-d71fdabd7268",
   "metadata": {},
   "source": [
    "#### Random Forest Regressor\n",
    "\n",
    "- Trained a Random Forest model with 100 trees to predict future sales.\n",
    "- Random Forest captures non-linear relationships and interactions between features.\n",
    "- The model was trained on the processed features (`X_train`, `y_train`) and used to predict sales on the test set.\n"
   ]
  },
  {
   "cell_type": "code",
   "execution_count": 48,
   "id": "af515bd8-a6f4-41ef-b63f-92a6f6938f42",
   "metadata": {},
   "outputs": [],
   "source": [
    "rf = RandomForestRegressor(n_estimators=100, random_state=42)\n",
    "rf.fit(X_train, y_train)\n",
    "rf_pred = rf.predict(X_test)"
   ]
  },
  {
   "cell_type": "markdown",
   "id": "d0cf03fd-fe85-4418-a08f-a822da2cde72",
   "metadata": {},
   "source": [
    "#### XGBoost Regressor\n",
    "\n",
    "- Trained an XGBoost model with 100 boosting rounds and a learning rate of 0.1.\n",
    "- XGBoost is a powerful gradient boosting method that handles complex patterns and overfitting well.\n",
    "- The model was trained on the training data and used to predict sales on the test set."
   ]
  },
  {
   "cell_type": "code",
   "execution_count": 49,
   "id": "385cf555-6e8b-4b35-ba0d-fb14a6d1674d",
   "metadata": {},
   "outputs": [],
   "source": [
    "xgb = XGBRegressor(n_estimators=100, learning_rate=0.1, random_state=42)\n",
    "xgb.fit(X_train, y_train)\n",
    "xgb_pred = xgb.predict(X_test)"
   ]
  },
  {
   "cell_type": "markdown",
   "id": "9860b601-d9dc-4946-8d8a-bce688374853",
   "metadata": {},
   "source": [
    "#### LSTM Model\n",
    "\n",
    "- Scaled features using `MinMaxScaler` to bring all values between 0 and 1.\n",
    "- Reshaped the data to fit LSTM input format: `(samples, time steps, features)`.\n",
    "- Built an LSTM model with:\n",
    "  - 50 memory units (neurons)\n",
    "  - ReLU activation\n",
    "  - Adam optimizer and MSE loss\n",
    "- Trained the model for 5 epochs with a batch size of 64.\n",
    "- Used the model to predict sales on the test data.\n"
   ]
  },
  {
   "cell_type": "code",
   "execution_count": 50,
   "id": "7a85b5da-935f-47c3-82e6-363c6d6e3f4f",
   "metadata": {},
   "outputs": [
    {
     "name": "stdout",
     "output_type": "stream",
     "text": [
      "\u001b[1m2618/2618\u001b[0m \u001b[32m━━━━━━━━━━━━━━━━━━━━\u001b[0m\u001b[37m\u001b[0m \u001b[1m1s\u001b[0m 255us/step \n"
     ]
    }
   ],
   "source": [
    "scaler = MinMaxScaler()\n",
    "X_train_scaled = scaler.fit_transform(X_train)\n",
    "X_test_scaled = scaler.transform(X_test)\n",
    "\n",
    "X_train_lstm = X_train_scaled.reshape((X_train_scaled.shape[0], 1, X_train_scaled.shape[1]))\n",
    "X_test_lstm = X_test_scaled.reshape((X_test_scaled.shape[0], 1, X_test_scaled.shape[1]))\n",
    "\n",
    "\n",
    "lstm = Sequential()\n",
    "lstm.add(LSTM(50, activation='relu', input_shape=(1, X_train_scaled.shape[1])))\n",
    "lstm.add(Dense(1))\n",
    "lstm.compile(optimizer='adam', loss='mse')\n",
    "lstm.fit(X_train_lstm, y_train, epochs=5, batch_size=64, verbose=0)\n",
    "\n",
    "lstm_preds = lstm.predict(X_test_lstm).flatten()"
   ]
  },
  {
   "cell_type": "code",
   "execution_count": 51,
   "id": "8ef39e59-6102-406a-a1cf-17d8bd0bd04f",
   "metadata": {},
   "outputs": [],
   "source": [
    "# prophet_df = df[['date', 'sales']].rename(columns={\"date\": \"ds\", \"sales\": \"y\"})\n",
    "# prophet_train = prophet_df[prophet_df['ds'] < '2017-07-01']\n",
    "\n",
    "# m = Prophet()\n",
    "# m.fit(prophet_train)\n",
    "\n",
    "# future = m.make_future_dataframe(periods=len(test))\n",
    "# forecast = m.predict(future)\n",
    "# prophet_preds = forecast.tail(len(test))['yhat'].values\n"
   ]
  },
  {
   "cell_type": "markdown",
   "id": "ceb5ddbb-6c1e-43bd-8f51-2bad893c52e1",
   "metadata": {},
   "source": [
    "### 2. Model Evaluation\n",
    "- Defined a function to evaluate model performance using three key metrics:\n",
    "  - **RMSE (Root Mean Squared Error)**: Measures the average magnitude of the errors.\n",
    "  - **MAPE (Mean Absolute Percentage Error)**: Shows error as a percentage.\n",
    "  - **R² Score**: Tells how well the model explains the variance in actual sales.\n",
    "- This function prints all metrics for easy comparison between models."
   ]
  },
  {
   "cell_type": "code",
   "execution_count": 54,
   "id": "307fd788-6baa-46f0-8190-8c95aad5ed39",
   "metadata": {},
   "outputs": [],
   "source": [
    "import numpy as np\n",
    "from sklearn.metrics import mean_squared_error, mean_absolute_percentage_error, r2_score\n",
    "\n",
    "def evaluate_model(y_true, y_pred, model_name):\n",
    "    print(f\" {model_name}\")\n",
    "    mse = mean_squared_error(y_true, y_pred)\n",
    "    rmse = np.sqrt(mse)\n",
    "    print(\"RMSE:\", rmse)\n",
    "    print(\"MAPE:\", mean_absolute_percentage_error(y_true, y_pred))\n",
    "    print(\"R² Score:\", r2_score(y_true, y_pred))\n",
    "    print(\"-\" * 40)\n"
   ]
  },
  {
   "cell_type": "markdown",
   "id": "83111335-0a77-41b2-a513-07a2a000a295",
   "metadata": {},
   "source": [
    "#### Model Evaluation Summary\n",
    "\n",
    "The **Random Forest** model performed the best with the lowest RMSE and highest R² score. **XGBoost** came close, showing good accuracy. **LSTM** also gave decent results, though not as strong as the tree-based models. In contrast, both **Naïve** and **ARIMA** models performed poorly, especially ARIMA, which struggled with this dataset.\n"
   ]
  },
  {
   "cell_type": "code",
   "execution_count": 55,
   "id": "d82f2b05-ba28-4b36-b5e1-16a6dd7fb3d9",
   "metadata": {},
   "outputs": [
    {
     "name": "stdout",
     "output_type": "stream",
     "text": [
      " Naïve Forecast\n",
      "RMSE: 1904.572827313253\n",
      "MAPE: 6.195617784938687e+17\n",
      "R² Score: -1.082017112682295\n",
      "----------------------------------------\n",
      " ARIMA\n",
      "RMSE: 1040083.0980291044\n",
      "MAPE: 6.792080021164752e+20\n",
      "R² Score: -620904.0680158873\n",
      "----------------------------------------\n",
      " Random Forest\n",
      "RMSE: 431.5513662564356\n",
      "MAPE: 1.5517131888216958e+16\n",
      "R² Score: 0.8931058055742505\n",
      "----------------------------------------\n",
      " XGBoost\n",
      "RMSE: 480.14551252869666\n",
      "MAPE: 4.768506859626704e+16\n",
      "R² Score: 0.8676771410938278\n",
      "----------------------------------------\n",
      " LSTM\n",
      "RMSE: 726.2010207970401\n",
      "MAPE: 2.5880679199083716e+16\n",
      "R² Score: 0.6973066798528257\n",
      "----------------------------------------\n"
     ]
    }
   ],
   "source": [
    "evaluate_model(test['sales'], test['naive_pred'], \"Naïve Forecast\")\n",
    "evaluate_model(y_test, arima_forecast, \"ARIMA\")\n",
    "evaluate_model(y_test, rf_pred, \"Random Forest\")\n",
    "evaluate_model(y_test, xgb_pred, \"XGBoost\")\n",
    "evaluate_model(y_test, lstm_preds, \"LSTM\")"
   ]
  },
  {
   "cell_type": "markdown",
   "id": "77aa69cd-d085-4a6c-b1b4-be8815cb7662",
   "metadata": {},
   "source": [
    "### 3. Visualization\n",
    "#### Visual Comparison of Actual vs Predicted Sales\n",
    "\n",
    "This line plot shows how well each model (Random Forest, XGBoost, LSTM) predicts sales compared to the actual sales over time. It helps us visually inspect which model follows the real sales trend most closely.\n"
   ]
  },
  {
   "cell_type": "code",
   "execution_count": 58,
   "id": "bb92e8d8-9a11-4487-bee3-1ec3d7310feb",
   "metadata": {},
   "outputs": [
    {
     "data": {
      "image/png": "[encoded data removed]",
      "text/plain": [
       "<Figure size 1400x600 with 1 Axes>"
      ]
     },
     "metadata": {},
     "output_type": "display_data"
    }
   ],
   "source": [
    "plt.figure(figsize=(14, 6))\n",
    "plt.plot(test['date'], y_test, label=\"Actual Sales\", linewidth=2)\n",
    "plt.plot(test['date'], rf_pred, label=\"Random Forest\")\n",
    "plt.plot(test['date'], xgb_pred, label=\"XGBoost\")\n",
    "plt.plot(test['date'], lstm_preds, label=\"LSTM\")\n",
    "plt.legend()\n",
    "plt.title(\"Actual vs Predicted Sales\")\n",
    "plt.xlabel(\"Date\")\n",
    "plt.ylabel(\"Sales\")\n",
    "plt.show()"
   ]
  },
  {
   "cell_type": "markdown",
   "id": "8712e6bd-77f8-4a0b-8e3a-c1a123e5b7b4",
   "metadata": {},
   "source": [
    "#### Historical and Forecasted Sales Overview\n",
    "\n",
    "This chart combines the full history of sales with predictions from three models: Random Forest, XGBoost, and LSTM. It helps us understand how each model continues the sales trend into the forecast period, and how well their predictions align with the historical patterns.\n"
   ]
  },
  {
   "cell_type": "code",
   "execution_count": 57,
   "id": "114c2f50-7908-4c00-b6bc-12179cdc6d0f",
   "metadata": {},
   "outputs": [
    {
     "data": {
      "image/png": "[encoded data removed]",
      "text/plain": [
       "<Figure size 1400x600 with 1 Axes>"
      ]
     },
     "metadata": {},
     "output_type": "display_data"
    }
   ],
   "source": [
    "plt.figure(figsize=(14, 6))\n",
    "\n",
    "# Plot entire sales history\n",
    "plt.plot(df['date'], df['sales'], label=\"Historical Sales\", color='gray')\n",
    "\n",
    "# Overlay predicted sales on test portion\n",
    "plt.plot(test['date'], rf_pred, label=\"Random Forest Prediction\", linestyle='--')\n",
    "plt.plot(test['date'], xgb_pred, label=\"XGBoost Prediction\", linestyle='--')\n",
    "plt.plot(test['date'], lstm_preds, label=\"LSTM Prediction\", linestyle='--')\n",
    "\n",
    "plt.title(\"Historical Sales + Forecasted Sales\", fontsize=16)\n",
    "plt.xlabel(\"Date\")\n",
    "plt.ylabel(\"Sales\")\n",
    "plt.legend()\n",
    "plt.grid(True)\n",
    "plt.tight_layout()\n",
    "plt.show()\n"
   ]
  },
  {
   "cell_type": "markdown",
   "id": "a262f40d-59d3-4ef7-8132-75e8180ef08d",
   "metadata": {},
   "source": [
    "Last 7 Days: Actual vs Predicted Sales\n",
    "\n",
    "This bar chart compares actual sales with model predictions (Random Forest, XGBoost, and LSTM) for the most recent 7 days. It provides a quick visual check on how closely each model is tracking the real sales.\n"
   ]
  },
  {
   "cell_type": "code",
   "execution_count": 60,
   "id": "78944dba-d49f-4d20-8b4e-0106100c79cb",
   "metadata": {},
   "outputs": [
    {
     "data": {
      "image/png": "[encoded data removed]",
      "text/plain": [
       "<Figure size 1400x600 with 1 Axes>"
      ]
     },
     "metadata": {},
     "output_type": "display_data"
    }
   ],
   "source": [
    "sample = test[-7:].copy()\n",
    "x = np.arange(len(sample))  # label locations\n",
    "width = 0.2  # width of each bar\n",
    "\n",
    "plt.figure(figsize=(14, 6))\n",
    "plt.bar(x - width, sample['sales'], width, label='Actual Sales')\n",
    "plt.bar(x, rf_pred[-7:], width, label='Random Forest')\n",
    "plt.bar(x + width, xgb_pred[-7:], width, label='XGBoost')\n",
    "plt.bar(x + 2*width, lstm_preds[-7:], width, label='LSTM')\n",
    "\n",
    "plt.xticks(x, sample['date'].dt.strftime('%b %d'), rotation=45)\n",
    "plt.title(\"Actual vs Predicted Sales (Last 7 Days)\")\n",
    "plt.xlabel(\"Date\")\n",
    "plt.ylabel(\"Sales\")\n",
    "plt.legend()\n",
    "plt.tight_layout()\n",
    "plt.show()"
   ]
  },
  {
   "cell_type": "markdown",
   "id": "b016e25f-dbd7-406c-8935-55f81471da29",
   "metadata": {},
   "source": [
    "#### Model Evaluation Summary\n",
    "\n",
    "This table shows the performance of all five forecasting models based on three error metrics:\n",
    "\n",
    "- **RMSE (Root Mean Squared Error)**: Measures the average prediction error in the same unit as sales.\n",
    "- **MAPE (Mean Absolute Percentage Error)**: Indicates average percentage error (lower is better).\n",
    "- **R² Score**: Shows how well the model explains the variability in the data (closer to 1 is better).\n",
    "\n",
    "The models are sorted by RMSE to highlight the most accurate ones at the top.\n"
   ]
  },
  {
   "cell_type": "code",
   "execution_count": 77,
   "id": "a0fc6c7c-0d2d-4b10-99cf-17ed01ca5ee5",
   "metadata": {},
   "outputs": [
    {
     "data": {
      "text/html": [
       "<div>\n",
       "<style scoped>\n",
       "    .dataframe tbody tr th:only-of-type {\n",
       "        vertical-align: middle;\n",
       "    }\n",
       "\n",
       "    .dataframe tbody tr th {\n",
       "        vertical-align: top;\n",
       "    }\n",
       "\n",
       "    .dataframe thead th {\n",
       "        text-align: right;\n",
       "    }\n",
       "</style>\n",
       "<table border=\"1\" class=\"dataframe\">\n",
       "  <thead>\n",
       "    <tr style=\"text-align: right;\">\n",
       "      <th></th>\n",
       "      <th>Model</th>\n",
       "      <th>RMSE</th>\n",
       "      <th>MAPE</th>\n",
       "      <th>R² Score</th>\n",
       "    </tr>\n",
       "  </thead>\n",
       "  <tbody>\n",
       "    <tr>\n",
       "      <th>0</th>\n",
       "      <td>Random Forest</td>\n",
       "      <td>431.55</td>\n",
       "      <td>1.550000e+16</td>\n",
       "      <td>0.89</td>\n",
       "    </tr>\n",
       "    <tr>\n",
       "      <th>1</th>\n",
       "      <td>XGBoost</td>\n",
       "      <td>480.15</td>\n",
       "      <td>4.770000e+16</td>\n",
       "      <td>0.86</td>\n",
       "    </tr>\n",
       "    <tr>\n",
       "      <th>2</th>\n",
       "      <td>LSTM</td>\n",
       "      <td>719.88</td>\n",
       "      <td>2.240000e+16</td>\n",
       "      <td>0.70</td>\n",
       "    </tr>\n",
       "    <tr>\n",
       "      <th>3</th>\n",
       "      <td>Naïve</td>\n",
       "      <td>1904.57</td>\n",
       "      <td>6.190000e+17</td>\n",
       "      <td>-1.08</td>\n",
       "    </tr>\n",
       "    <tr>\n",
       "      <th>4</th>\n",
       "      <td>ARIMA</td>\n",
       "      <td>1040083.10</td>\n",
       "      <td>6.790000e+20</td>\n",
       "      <td>-620904.00</td>\n",
       "    </tr>\n",
       "  </tbody>\n",
       "</table>\n",
       "</div>"
      ],
      "text/plain": [
       "           Model        RMSE          MAPE   R² Score\n",
       "0  Random Forest      431.55  1.550000e+16       0.89\n",
       "1        XGBoost      480.15  4.770000e+16       0.86\n",
       "2           LSTM      719.88  2.240000e+16       0.70\n",
       "3          Naïve     1904.57  6.190000e+17      -1.08\n",
       "4          ARIMA  1040083.10  6.790000e+20 -620904.00"
      ]
     },
     "execution_count": 77,
     "metadata": {},
     "output_type": "execute_result"
    }
   ],
   "source": [
    "data = [[\"Naïve\", 1904.57, 6.19e17, -1.08],\n",
    "        [\"ARIMA\", 1040083.10, 6.79e20, -620904],\n",
    "        [\"Random Forest\", 431.55, 1.55e16, 0.89],\n",
    "        [\"XGBoost\", 480.15, 4.77e16, 0.86],\n",
    "        [\"LSTM\", 719.88, 2.24e16, 0.70]]\n",
    "\n",
    "data = pd.DataFrame(data, columns=[\"Model\", \"RMSE\", \"MAPE\", \"R² Score\"])\n",
    "data = data.round(2).sort_values(by=\"RMSE\").reset_index(drop=True)\n",
    "data"
   ]
  },
  {
   "cell_type": "markdown",
   "id": "838dfe91-a79b-4506-bcd0-6b618d001731",
   "metadata": {},
   "source": [
    " #### Feature Importance (Random Forest)\n",
    "\n",
    "This horizontal bar chart shows which features the Random Forest model considered most important for predicting sales.\n",
    "\n",
    "- Features with higher importance scores had more influence on the model's decisions.\n",
    "- This helps identify which variables (like promotions, oil prices, holidays, etc.) had the biggest impact on sales.\n",
    "\n",
    "Understanding feature importance can guide future improvements in data collection and model tuning.\n"
   ]
  },
  {
   "cell_type": "code",
   "execution_count": 64,
   "id": "34d27728-40be-4cd7-b38e-51d1b5e62f8d",
   "metadata": {},
   "outputs": [
    {
     "data": {
      "image/png": "[encoded data removed]",
      "text/plain": [
       "<Figure size 1000x600 with 1 Axes>"
      ]
     },
     "metadata": {},
     "output_type": "display_data"
    }
   ],
   "source": [
    "importances = pd.Series(rf.feature_importances_, index=features).sort_values()\n",
    "\n",
    "plt.figure(figsize=(10, 6))\n",
    "importances.plot(kind='barh', color='teal')\n",
    "plt.title(\"Random Forest Feature Importance\")\n",
    "plt.xlabel(\"Importance Score\")\n",
    "plt.show()"
   ]
  },
  {
   "cell_type": "code",
   "execution_count": 132,
   "id": "5576a67b-c8cc-4a57-bd5b-691f9df29047",
   "metadata": {},
   "outputs": [],
   "source": [
    "# Load the test and sample submission files\n",
    "# Parsing the date column so we can use it easily later\n",
    "test_df = pd.read_csv('test.csv', parse_dates=['date'])\n",
    "submission = pd.read_csv('sample_submission.csv')"
   ]
  },
  {
   "cell_type": "markdown",
   "id": "392367e7-1706-4a1f-a183-93e070eba6cd",
   "metadata": {},
   "source": [
    "#### Merge Test Data with Feature Data\n",
    "\n",
    "We merge the `test.csv` data with the main dataset (excluding the `sales` column) to get all the engineered features for our test set. This ensures the test data has the same columns as the training data, except for the target (`sales`) which we want to predict.\n"
   ]
  },
  {
   "cell_type": "code",
   "execution_count": 130,
   "id": "28ebe163-9785-45c1-9c52-d0a1daf0ccd3",
   "metadata": {},
   "outputs": [],
   "source": [
    "test_merged = test_df.merge(df.drop('sales', axis=1), on=['date', 'store_nbr', 'family', 'onpromotion'], how='left')"
   ]
  },
  {
   "cell_type": "markdown",
   "id": "7817fe2f-7dca-4828-9cfa-b0a6aa10de10",
   "metadata": {},
   "source": [
    "#### Select Features for Final Test Set\n",
    "\n",
    "We select the same feature columns used during training for the test dataset. These features will be used by the trained models to make final sales predictions.\n"
   ]
  },
  {
   "cell_type": "code",
   "execution_count": 131,
   "id": "eefb7c7d-9239-48d6-a722-42029e9ae4dd",
   "metadata": {},
   "outputs": [],
   "source": [
    "features = ['onpromotion', 'dcoilwtico', 'day', 'month', 'year', 'day_of_week',\n",
    "            'holiday_flag', 'promotion_flag', 'economic_flag', 'is_payday',\n",
    "            'rolling_mean', 'rolling_std', 'sales_prev_week', 'sales_prev_month']\n",
    "\n",
    "X_final_test = test_merged[features]"
   ]
  },
  {
   "cell_type": "markdown",
   "id": "6211630e-4554-45c0-be34-4c5d53706a2e",
   "metadata": {},
   "source": [
    "#### Make Final Predictions using Random Forest\n",
    "\n",
    "Use the trained Random Forest model to predict sales on the final test dataset.\n"
   ]
  },
  {
   "cell_type": "code",
   "execution_count": 126,
   "id": "2b41327a-3603-4566-8c85-b0239295f78f",
   "metadata": {},
   "outputs": [],
   "source": [
    "rf_final_pred = rf.predict(X_final_test)"
   ]
  },
  {
   "cell_type": "markdown",
   "id": "cf400d3c-a1d4-4eaf-94f1-157cbc5a8c31",
   "metadata": {},
   "source": [
    "#### Save Predictions to Submission File\n",
    "\n",
    "We assign the predicted sales to the submission file and save it as a CSV to submit.\n"
   ]
  },
  {
   "cell_type": "code",
   "execution_count": 125,
   "id": "70702e8a-04ca-46ed-9312-390574807818",
   "metadata": {},
   "outputs": [],
   "source": [
    "submission['sales'] = rf_final_pred\n",
    "submission.to_csv('submission.csv', index=False)"
   ]
  },
  {
   "cell_type": "markdown",
   "id": "f3fe1e51-bfdf-4ec4-9fd9-6f10b8894b8a",
   "metadata": {},
   "source": [
    "###  4.Interpretation and Business Insights\n",
    "\n",
    "#### Best Performing Model\n",
    "- **Random Forest** delivered the best performance based on RMSE, MAPE, and R² Score.\n",
    "- It captured non-linear patterns well and handled various input features effectively.\n",
    "- Models like ARIMA and Naïve struggled due to lack of feature flexibility.\n",
    "\n",
    "#### Key Factors Influencing Sales\n",
    "- **Promotions** and **holidays** had a strong impact on sales spikes.\n",
    "- **Oil prices** showed mild correlation with sales, possibly due to economic sensitivity.\n",
    "- Features like **day of week**, **store type**, and **previous week sales** also contributed meaningfully to the model's predictions.\n",
    "\n",
    "####  Business Strategy Suggestions\n",
    "- Use the Random Forest model for ongoing **sales forecasting**.\n",
    "- Align **inventory planning** with expected demand during promotional events and holidays.\n",
    "- Apply **targeted promotions** based on predicted low-sales periods to drive customer interest.\n",
    "- Monitor external factors (like oil prices or economic signals) to anticipate changes in sales trends.\n",
    "\n",
    "These insights can help the business make smarter, data-driven decisions for the future."
   ]
  },
  {
   "cell_type": "code",
   "execution_count": null,
   "id": "bd500798-0104-4739-8eab-6d1a6f9f7041",
   "metadata": {},
   "outputs": [],
   "source": []
  }
 ],
 "metadata": {
  "kernelspec": {
   "display_name": "Python 3 (ipykernel)",
   "language": "python",
   "name": "python3"
  },
  "language_info": {
   "codemirror_mode": {
    "name": "ipython",
    "version": 3
   },
   "file_extension": ".py",
   "mimetype": "text/x-python",
   "name": "python",
   "nbconvert_exporter": "python",
   "pygments_lexer": "ipython3",
   "version": "3.10.16"
  }
 },
 "nbformat": 4,
 "nbformat_minor": 5
}
